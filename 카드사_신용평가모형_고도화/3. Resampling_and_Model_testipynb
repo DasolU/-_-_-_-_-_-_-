{
 "cells": [
  {
   "cell_type": "code",
   "execution_count": 1,
   "metadata": {},
   "outputs": [],
   "source": [
    "#데이터 구성: Series, DataFrame\n",
    "import pandas as pd\n",
    "\n",
    "#행렬 연산\n",
    "import numpy as np\n",
    "\n",
    "#통계분석 패키지\n",
    "import scipy.stats\n",
    "from scipy import stats\n",
    "\n",
    "#datetime\n",
    "import datetime\n",
    "\n",
    "\n",
    "#데이터 시각화\n",
    "import matplotlib\n",
    "import matplotlib.pyplot as plt\n",
    "#데이터 시각화: 추세, 산점도 행렬\n",
    "import seaborn as sns\n",
    "\n",
    "# grhpviz\n",
    "from sklearn.tree import export_graphviz\n",
    "import graphviz\n",
    "\n",
    "\n",
    "#데이터 분할\n",
    "from sklearn.model_selection import train_test_split\n",
    "\n",
    "# 로지스틱 회귀\n",
    "from statsmodels.api import Logit\n",
    "from sklearn.metrics import accuracy_score\n",
    "\n",
    "# 의사결정나무\n",
    "from sklearn.tree import DecisionTreeClassifier\n",
    "\n",
    "# 랜덤포레스트\n",
    "from sklearn.ensemble import RandomForestClassifier\n",
    "\n",
    "# 그레디언트 부스팅\n",
    "from sklearn.ensemble import GradientBoostingClassifier\n",
    "\n",
    "# 모델 성능 평가\n",
    "from sklearn.metrics import confusion_matrix\n",
    "from sklearn.metrics import classification_report\n",
    "\n",
    "#다중공선성 확인\n",
    "from statsmodels.stats.outliers_influence import variance_inflation_factor\n",
    "\n",
    "#선형회귀모형\n",
    "from sklearn.linear_model import LinearRegression\n",
    "\n",
    "#변수 선택법(후진제거법)\n",
    "from sklearn.feature_selection import RFE\n",
    "\n",
    "#Scale 변환:평균, 표준편차 기준\n",
    "from sklearn.preprocessing import StandardScaler\n",
    "from sklearn.preprocessing import scale\n",
    "\n",
    "#평가함수\n",
    "from sklearn.metrics import mean_squared_error\n",
    "from sklearn.metrics import mean_absolute_error\n",
    "\n",
    "#jupyter notebook 사용시 그래프 자동 출력 옵션\n",
    "%matplotlib inline\n",
    "matplotlib.rc('font', family='AppleGothic')\n",
    "plt.rc('font',  family='AppleGothic')\n",
    "plt.rcParams['axes.unicode_minus']=False"
   ]
  },
  {
   "cell_type": "code",
   "execution_count": 2,
   "metadata": {
    "scrolled": true
   },
   "outputs": [],
   "source": [
    "df = pd.read_csv('wo_thin.csv', engine='python', encoding='cp949')"
   ]
  },
  {
   "cell_type": "markdown",
   "metadata": {},
   "source": [
    "# 원래 데이터의 연체/연체X 비율\n",
    "과거(2020년 전) 씬파일러 제외 1849명 중, 2020년 이후 연체인 사람 312명"
   ]
  },
  {
   "cell_type": "code",
   "execution_count": 3,
   "metadata": {},
   "outputs": [
    {
     "name": "stdout",
     "output_type": "stream",
     "text": [
      "Class imbalance ratio = 4.9: 1\n"
     ]
    }
   ],
   "source": [
    "ratio = (df['is_overdue'].count()-df['is_overdue'].sum())/df['is_overdue'].sum()\n",
    "print('Class imbalance ratio = {}: 1'.format(ratio.round(1)))"
   ]
  },
  {
   "cell_type": "code",
   "execution_count": 4,
   "metadata": {},
   "outputs": [
    {
     "name": "stdout",
     "output_type": "stream",
     "text": [
      "1849\n",
      "312.0\n"
     ]
    }
   ],
   "source": [
    "print(df['is_overdue'].count())\n",
    "print(df['is_overdue'].sum())"
   ]
  },
  {
   "cell_type": "code",
   "execution_count": 5,
   "metadata": {},
   "outputs": [
    {
     "name": "stderr",
     "output_type": "stream",
     "text": [
      "<ipython-input-5-35d7d39a5b98>:7: SettingWithCopyWarning: \n",
      "A value is trying to be set on a copy of a slice from a DataFrame.\n",
      "Try using .loc[row_indexer,col_indexer] = value instead\n",
      "\n",
      "See the caveats in the documentation: https://pandas.pydata.org/pandas-docs/stable/user_guide/indexing.html#returning-a-view-versus-a-copy\n",
      "  X['dwell_type'] = X['dwell_type'].map(dwell_mapping)\n"
     ]
    }
   ],
   "source": [
    "y = df[['is_overdue']]\n",
    "\n",
    "# X = df.drop(['is_overdue', 'credit_class', 'score_risk', 'age', 'income_home_grp', 'income_ind_grp', 'expenditure_grp', 'income_person', 'chaju_id', 'job', 'house_type'], axis=1)\n",
    "X = df[['gender', 'agegroup', 'dwell_type', 'child_cd', 'flag_priv_biz_cd', 'card_count', 'loan_dur', 'loan_count', 'over_dur', 'over_count']]\n",
    "\n",
    "dwell_mapping = {'자가': '자가', '전세': '전세', '월세': '월세', '영구임대': '월세', '사택/기타': '월세'}\n",
    "X['dwell_type'] = X['dwell_type'].map(dwell_mapping)\n",
    "\n",
    "# X[['sum_loan_at_time', 'loan_amt', 'over_amt', 'sum_cashservice_3y', 'sum_cardloan_3y', 'sum_creditcard_over']] = np.log10(X[['sum_loan_at_time', 'loan_amt', 'over_amt', 'sum_cashservice_3y', 'sum_cardloan_3y', 'sum_creditcard_over']]+1)\n",
    "\n",
    "X = pd.get_dummies(X, drop_first=True)"
   ]
  },
  {
   "cell_type": "code",
   "execution_count": 6,
   "metadata": {},
   "outputs": [
    {
     "data": {
      "text/plain": [
       "is_overdue\n",
       "0.0           1537\n",
       "1.0            312\n",
       "dtype: int64"
      ]
     },
     "execution_count": 6,
     "metadata": {},
     "output_type": "execute_result"
    }
   ],
   "source": [
    "y.value_counts()"
   ]
  },
  {
   "cell_type": "markdown",
   "metadata": {},
   "source": [
    "# Resampling\n",
    "y=1인 데이터의 개수를 y=0인 데이터 개수(1537)로 증가시키키 (1.0, 312)=>(1.0, 1537)"
   ]
  },
  {
   "cell_type": "code",
   "execution_count": 7,
   "metadata": {},
   "outputs": [
    {
     "name": "stdout",
     "output_type": "stream",
     "text": [
      "y after resampling [(0.0, 1537), (1.0, 1537)]\n",
      "y_over: oversampling 완료한 y의 총 개수 1537*2 =  3074\n",
      "3074\n"
     ]
    }
   ],
   "source": [
    "from imblearn.over_sampling import RandomOverSampler \n",
    "from imblearn.under_sampling import RandomUnderSampler\n",
    "from collections import Counter\n",
    "\n",
    "\"\"\"\n",
    "class 비율이 1000:100인 경우=>100인 class를 1000으로 늘려준다.\n",
    "majority class had 1,000 examples and the minority class had 100, \n",
    "this strategy would oversampling the minority class so that it has 1,000 examples.\n",
    "\n",
    "\"\"\"\n",
    "oversample = RandomOverSampler(sampling_strategy='minority')#sampling_strategy=1)#sampling_strategy='minority')\n",
    "\n",
    "# fit_resample에 넣는 X,y type은 numpy.ndarray여야 한다.\n",
    "X_over, y_over = oversample.fit_resample(X.to_numpy(), y.to_numpy())\n",
    "print('y after resampling', sorted(Counter(y_over).items()))\n",
    "print('y_over: oversampling 완료한 y의 총 개수 1537*2 = ', len(y_over))\n",
    "print(len(X_over))\n",
    "# under = RandomUnderSampler(sampling_strategy=555/1537)\n",
    "# X_over, y_over = under.fit_resample(X_over, y_over)\n",
    "# print('y after resampling', sorted(Counter(y_over).items()))"
   ]
  },
  {
   "cell_type": "code",
   "execution_count": 40,
   "metadata": {},
   "outputs": [
    {
     "name": "stdout",
     "output_type": "stream",
     "text": [
      "1998\n"
     ]
    }
   ],
   "source": [
    "# resampling된 train, test 데이터\n",
    "train_x_resampled, dummy, train_y_resampled, dummy = train_test_split(X_over, y_over, test_size=0.35, stratify=y_over, random_state=0)\n",
    "# train_x, test_x, train_y_resampled, test_y = train_test_split(X_over, y_over, test_size=0.3, stratify=y_over)\n",
    "print(len(train_y_resampled))"
   ]
  },
  {
   "cell_type": "code",
   "execution_count": 41,
   "metadata": {},
   "outputs": [],
   "source": [
    "# train_x, test_x, train_y, test_y = train_test_split(X, y, test_size=0.3, stratify=y,random_state=0)\n",
    "\n",
    "# resampling된 train, test 데이터\n",
    "# train_x, test_x, train_y, test_y = train_test_split(X_over, y_over, test_size=0.3, random_state=0)\n",
    "# train_x, test_x, train_y, test_y = train_test_split(X_over, y, test_size=0.3, random_state=0)\n",
    "\n",
    "\n",
    "dummy, test_x_select, train_y, test_y_select = train_test_split(X, y, test_size=0.3, stratify=y,random_state=0)\n"
   ]
  },
  {
   "cell_type": "code",
   "execution_count": 11,
   "metadata": {},
   "outputs": [
    {
     "data": {
      "text/plain": [
       "1.0    999\n",
       "0.0    999\n",
       "dtype: int64"
      ]
     },
     "execution_count": 11,
     "metadata": {},
     "output_type": "execute_result"
    }
   ],
   "source": [
    "a = pd.DataFrame(train_y_resampled)\n",
    "a.value_counts()"
   ]
  },
  {
   "cell_type": "code",
   "execution_count": 12,
   "metadata": {},
   "outputs": [
    {
     "name": "stdout",
     "output_type": "stream",
     "text": [
      "train_y_resampled\n",
      "0    1.0\n",
      "dtype: float64\n"
     ]
    }
   ],
   "source": [
    "print('train_y_resampled')\n",
    "print(a[a==0].count()/a[a==1].count())"
   ]
  },
  {
   "cell_type": "code",
   "execution_count": 46,
   "metadata": {},
   "outputs": [
    {
     "data": {
      "text/plain": [
       "is_overdue\n",
       "0.0           461\n",
       "1.0            94\n",
       "dtype: int64"
      ]
     },
     "execution_count": 46,
     "metadata": {},
     "output_type": "execute_result"
    }
   ],
   "source": [
    "a = pd.DataFrame(test_y_select)\n",
    "a.value_counts()"
   ]
  },
  {
   "cell_type": "code",
   "execution_count": 47,
   "metadata": {},
   "outputs": [
    {
     "name": "stdout",
     "output_type": "stream",
     "text": [
      "test_y_select\n",
      "is_overdue    4.904255\n",
      "dtype: float64\n"
     ]
    }
   ],
   "source": [
    "print('test_y_select')\n",
    "print(a[a==0].count()/a[a==1].count())"
   ]
  },
  {
   "cell_type": "markdown",
   "metadata": {},
   "source": [
    "# 모델 입성 전 train, test set 정의"
   ]
  },
  {
   "cell_type": "code",
   "execution_count": 54,
   "metadata": {},
   "outputs": [
    {
     "name": "stdout",
     "output_type": "stream",
     "text": [
      "1998\n",
      "1398\n"
     ]
    }
   ],
   "source": [
    "# print(len(train_y_resampled))\n",
    "\n",
    "# train_y_select, dummy = train_test_split(train_y_resampled, test_size=0.3, stratify=train_y_resampled, random_state=0)\n",
    "# print(len(train_y_select))\n",
    "\n",
    "# dummy, train_y_select = train_test_split(train_y_resampled, test_size=len(train_y_test)/len(train_y_resampled), stratify=train_y_resampled,random_state=0)\n",
    "# print(len(train_y_select))\n",
    "\n",
    "# train_x_select, dummy = train_test_split(train_x_resampled, test_size=0.3, stratify=train_x_resampled, random_state=0)\n",
    "# print(len(train_x_select))"
   ]
  },
  {
   "cell_type": "code",
   "execution_count": 46,
   "metadata": {},
   "outputs": [
    {
     "data": {
      "text/plain": [
       "1398"
      ]
     },
     "execution_count": 46,
     "metadata": {},
     "output_type": "execute_result"
    }
   ],
   "source": [
    "# len(train_y_select)"
   ]
  },
  {
   "cell_type": "code",
   "execution_count": 50,
   "metadata": {},
   "outputs": [
    {
     "data": {
      "text/plain": [
       "1998"
      ]
     },
     "execution_count": 50,
     "metadata": {},
     "output_type": "execute_result"
    }
   ],
   "source": [
    "# len(train_x)"
   ]
  },
  {
   "cell_type": "code",
   "execution_count": 57,
   "metadata": {},
   "outputs": [
    {
     "data": {
      "text/plain": [
       "1.0    999\n",
       "0.0    999\n",
       "dtype: int64"
      ]
     },
     "execution_count": 57,
     "metadata": {},
     "output_type": "execute_result"
    }
   ],
   "source": [
    "# a = pd.DataFrame(train_y_select)\n",
    "# a = pd.DataFrame(train_y_resampled)\n",
    "# a.value_counts()"
   ]
  },
  {
   "cell_type": "code",
   "execution_count": 58,
   "metadata": {
    "scrolled": true
   },
   "outputs": [
    {
     "name": "stdout",
     "output_type": "stream",
     "text": [
      "train_y_select\n",
      "0    1.0\n",
      "dtype: float64\n"
     ]
    }
   ],
   "source": [
    "# print('train_y_select')\n",
    "# print(a[a==0].count()/a[a==1].count())"
   ]
  },
  {
   "cell_type": "code",
   "execution_count": 68,
   "metadata": {},
   "outputs": [],
   "source": [
    "# train_x = train_x_select\n",
    "# train_y = train_y_select\n",
    "train_x = train_x_resampled\n",
    "train_y = train_y_resampled\n",
    "test_x = test_x_select\n",
    "test_y = test_y_select\n",
    "print('train_x',train_x.shape)\n",
    "print('train_y',train_y.shape)\n",
    "print('test_x',test_x.shape)\n",
    "print('test_y',test_y.shape)"
   ]
  },
  {
   "cell_type": "markdown",
   "metadata": {},
   "source": [
    "# train_y 최종\n",
    "## 연체X : 연체 = 1 : 1 (oversampled)"
   ]
  },
  {
   "cell_type": "code",
   "execution_count": 61,
   "metadata": {},
   "outputs": [
    {
     "data": {
      "text/plain": [
       "1.0    999\n",
       "0.0    999\n",
       "dtype: int64"
      ]
     },
     "execution_count": 61,
     "metadata": {},
     "output_type": "execute_result"
    }
   ],
   "source": [
    "a = pd.DataFrame(train_y)\n",
    "a.value_counts()"
   ]
  },
  {
   "cell_type": "code",
   "execution_count": 62,
   "metadata": {},
   "outputs": [
    {
     "name": "stdout",
     "output_type": "stream",
     "text": [
      "train_y 최종의 연체X/연체 비율\n",
      "0    1.0\n",
      "dtype: float64\n"
     ]
    }
   ],
   "source": [
    "print('train_y 최종의 연체X/연체 비율')\n",
    "print(a[a==0].count()/a[a==1].count())"
   ]
  },
  {
   "cell_type": "markdown",
   "metadata": {},
   "source": [
    "# test_y 최종\n",
    "## 연체X : 연체 = 4.9 : 1 (원래 데이터 비율)"
   ]
  },
  {
   "cell_type": "code",
   "execution_count": 63,
   "metadata": {
    "scrolled": true
   },
   "outputs": [
    {
     "data": {
      "text/plain": [
       "is_overdue\n",
       "0.0           461\n",
       "1.0            94\n",
       "dtype: int64"
      ]
     },
     "execution_count": 63,
     "metadata": {},
     "output_type": "execute_result"
    }
   ],
   "source": [
    "a = pd.DataFrame(test_y)\n",
    "a.value_counts()"
   ]
  },
  {
   "cell_type": "code",
   "execution_count": 64,
   "metadata": {},
   "outputs": [
    {
     "name": "stdout",
     "output_type": "stream",
     "text": [
      "test_y 최종의 연체X/연체 비율\n",
      "is_overdue    4.904255\n",
      "dtype: float64\n"
     ]
    }
   ],
   "source": [
    "print('test_y 최종의 연체X/연체 비율')\n",
    "print(a[a==0].count()/a[a==1].count())"
   ]
  },
  {
   "cell_type": "markdown",
   "metadata": {},
   "source": [
    "# XGboost\n",
    "### 파라메터튜닝 필요\n",
    "https://www.kaggle.com/lifesailor/xgboost"
   ]
  },
  {
   "cell_type": "code",
   "execution_count": 65,
   "metadata": {},
   "outputs": [
    {
     "name": "stdout",
     "output_type": "stream",
     "text": [
      "[10:11:17] WARNING: /opt/concourse/worker/volumes/live/7a2b9f41-3287-451b-6691-43e9a6c0910f/volume/xgboost-split_1619728204606/work/src/learner.cc:1061: Starting in XGBoost 1.3.0, the default evaluation metric used with the objective 'multi:softmax' was changed from 'merror' to 'mlogloss'. Explicitly set eval_metric if you'd like to restore the old behavior.\n"
     ]
    },
    {
     "ename": "ValueError",
     "evalue": "feature_names mismatch: ['f0', 'f1', 'f2', 'f3', 'f4', 'f5', 'f6', 'f7', 'f8', 'f9', 'f10', 'f11', 'f12', 'f13', 'f14', 'f15'] ['card_count', 'loan_dur', 'loan_count', 'over_dur', 'over_count', 'gender_여성', 'agegroup_30대', 'agegroup_40대', 'agegroup_50대', 'agegroup_60대', 'agegroup_70대', 'agegroup_80대이상', 'dwell_type_자가', 'dwell_type_전세', 'child_cd_Y', 'flag_priv_biz_cd_Y']\nexpected f11, f0, f7, f14, f3, f4, f8, f10, f1, f13, f9, f2, f12, f5, f15, f6 in input data\ntraining data did not have the following fields: gender_여성, over_dur, loan_count, agegroup_30대, agegroup_40대, dwell_type_전세, flag_priv_biz_cd_Y, over_count, loan_dur, child_cd_Y, agegroup_70대, agegroup_80대이상, agegroup_50대, dwell_type_자가, agegroup_60대, card_count",
     "output_type": "error",
     "traceback": [
      "\u001b[0;31m---------------------------------------------------------------------------\u001b[0m",
      "\u001b[0;31mValueError\u001b[0m                                Traceback (most recent call last)",
      "\u001b[0;32m<ipython-input-65-9e05c4476213>\u001b[0m in \u001b[0;36m<module>\u001b[0;34m\u001b[0m\n\u001b[1;32m     10\u001b[0m         'num_class': len(set(train_y)) + 1} # 파라미터 추가, Label must be in [0, num_class) -> num_class보다 1 커야한다.\n\u001b[1;32m     11\u001b[0m \u001b[0mxgb_model\u001b[0m \u001b[0;34m=\u001b[0m \u001b[0mxgb\u001b[0m\u001b[0;34m.\u001b[0m\u001b[0mtrain\u001b[0m\u001b[0;34m(\u001b[0m\u001b[0mparams\u001b[0m \u001b[0;34m=\u001b[0m \u001b[0mxgb_param\u001b[0m\u001b[0;34m,\u001b[0m \u001b[0mdtrain\u001b[0m \u001b[0;34m=\u001b[0m \u001b[0mxgb_dtrain\u001b[0m\u001b[0;34m)\u001b[0m \u001b[0;31m# 학습 진행\u001b[0m\u001b[0;34m\u001b[0m\u001b[0;34m\u001b[0m\u001b[0m\n\u001b[0;32m---> 12\u001b[0;31m \u001b[0mxgb_model_predict\u001b[0m \u001b[0;34m=\u001b[0m \u001b[0mxgb_model\u001b[0m\u001b[0;34m.\u001b[0m\u001b[0mpredict\u001b[0m\u001b[0;34m(\u001b[0m\u001b[0mxgb_dtest\u001b[0m\u001b[0;34m)\u001b[0m \u001b[0;31m# 평가 데이터 예측\u001b[0m\u001b[0;34m\u001b[0m\u001b[0;34m\u001b[0m\u001b[0m\n\u001b[0m\u001b[1;32m     13\u001b[0m \u001b[0mprint\u001b[0m\u001b[0;34m(\u001b[0m\u001b[0;34m\"Accuracy: %.2f\"\u001b[0m \u001b[0;34m%\u001b[0m \u001b[0;34m(\u001b[0m\u001b[0maccuracy_score\u001b[0m\u001b[0;34m(\u001b[0m\u001b[0mtest_y\u001b[0m\u001b[0;34m,\u001b[0m \u001b[0mxgb_model_predict\u001b[0m\u001b[0;34m)\u001b[0m \u001b[0;34m*\u001b[0m \u001b[0;36m100\u001b[0m\u001b[0;34m)\u001b[0m\u001b[0;34m,\u001b[0m \u001b[0;34m\"%\"\u001b[0m\u001b[0;34m)\u001b[0m \u001b[0;31m# 정확도 % 계산\u001b[0m\u001b[0;34m\u001b[0m\u001b[0;34m\u001b[0m\u001b[0m\n\u001b[1;32m     14\u001b[0m \u001b[0;31m# print(\"Time: %.2f\" % (time.time() - start), \"seconds\") # 코드 실행 시간 계산\u001b[0m\u001b[0;34m\u001b[0m\u001b[0;34m\u001b[0m\u001b[0;34m\u001b[0m\u001b[0m\n",
      "\u001b[0;32m~/opt/anaconda3/lib/python3.8/site-packages/xgboost/core.py\u001b[0m in \u001b[0;36mpredict\u001b[0;34m(self, data, output_margin, ntree_limit, pred_leaf, pred_contribs, approx_contribs, pred_interactions, validate_features, training)\u001b[0m\n\u001b[1;32m   1483\u001b[0m \u001b[0;34m\u001b[0m\u001b[0m\n\u001b[1;32m   1484\u001b[0m         \u001b[0;32mif\u001b[0m \u001b[0mvalidate_features\u001b[0m\u001b[0;34m:\u001b[0m\u001b[0;34m\u001b[0m\u001b[0;34m\u001b[0m\u001b[0m\n\u001b[0;32m-> 1485\u001b[0;31m             \u001b[0mself\u001b[0m\u001b[0;34m.\u001b[0m\u001b[0m_validate_features\u001b[0m\u001b[0;34m(\u001b[0m\u001b[0mdata\u001b[0m\u001b[0;34m)\u001b[0m\u001b[0;34m\u001b[0m\u001b[0;34m\u001b[0m\u001b[0m\n\u001b[0m\u001b[1;32m   1486\u001b[0m \u001b[0;34m\u001b[0m\u001b[0m\n\u001b[1;32m   1487\u001b[0m         \u001b[0mlength\u001b[0m \u001b[0;34m=\u001b[0m \u001b[0mc_bst_ulong\u001b[0m\u001b[0;34m(\u001b[0m\u001b[0;34m)\u001b[0m\u001b[0;34m\u001b[0m\u001b[0;34m\u001b[0m\u001b[0m\n",
      "\u001b[0;32m~/opt/anaconda3/lib/python3.8/site-packages/xgboost/core.py\u001b[0m in \u001b[0;36m_validate_features\u001b[0;34m(self, data)\u001b[0m\n\u001b[1;32m   2058\u001b[0m                             ', '.join(str(s) for s in my_missing))\n\u001b[1;32m   2059\u001b[0m \u001b[0;34m\u001b[0m\u001b[0m\n\u001b[0;32m-> 2060\u001b[0;31m                 raise ValueError(msg.format(self.feature_names,\n\u001b[0m\u001b[1;32m   2061\u001b[0m                                             data.feature_names))\n\u001b[1;32m   2062\u001b[0m \u001b[0;34m\u001b[0m\u001b[0m\n",
      "\u001b[0;31mValueError\u001b[0m: feature_names mismatch: ['f0', 'f1', 'f2', 'f3', 'f4', 'f5', 'f6', 'f7', 'f8', 'f9', 'f10', 'f11', 'f12', 'f13', 'f14', 'f15'] ['card_count', 'loan_dur', 'loan_count', 'over_dur', 'over_count', 'gender_여성', 'agegroup_30대', 'agegroup_40대', 'agegroup_50대', 'agegroup_60대', 'agegroup_70대', 'agegroup_80대이상', 'dwell_type_자가', 'dwell_type_전세', 'child_cd_Y', 'flag_priv_biz_cd_Y']\nexpected f11, f0, f7, f14, f3, f4, f8, f10, f1, f13, f9, f2, f12, f5, f15, f6 in input data\ntraining data did not have the following fields: gender_여성, over_dur, loan_count, agegroup_30대, agegroup_40대, dwell_type_전세, flag_priv_biz_cd_Y, over_count, loan_dur, child_cd_Y, agegroup_70대, agegroup_80대이상, agegroup_50대, dwell_type_자가, agegroup_60대, card_count"
     ]
    }
   ],
   "source": [
    "# import xgboost as xgb\n",
    "# from sklearn.metrics import accuracy_score, precision_score, recall_score, f1_score, roc_auc_score\n",
    "\n",
    "# xgb_dtrain = xgb.DMatrix(data = train_x, label = train_y) # 학습 데이터를 XGBoost 모델에 맞게 변환\n",
    "# xgb_dtest = xgb.DMatrix(data = test_x) # 평가 데이터를 XGBoost 모델에 맞게 변환\n",
    "# # 기본적인 hyperparameter\n",
    "# xgb_param = {'max_depth': 20, # 트리 깊이\n",
    "#          'learning_rate': 0.01, # Step Size\n",
    "#          'objective': 'multi:softmax', # 목적 함수\n",
    "#         'num_class': len(set(train_y)) + 1} # 파라미터 추가, Label must be in [0, num_class) -> num_class보다 1 커야한다.\n",
    "# xgb_model = xgb.train(params = xgb_param, dtrain = xgb_dtrain) # 학습 진행\n",
    "# xgb_model_predict = xgb_model.predict(xgb_dtest) # 평가 데이터 예측\n",
    "# print(\"Accuracy: %.2f\" % (accuracy_score(test_y, xgb_model_predict) * 100), \"%\") # 정확도 % 계산\n",
    "# # print(\"Time: %.2f\" % (time.time() - start), \"seconds\") # 코드 실행 시간 계산\n"
   ]
  },
  {
   "cell_type": "code",
   "execution_count": 61,
   "metadata": {},
   "outputs": [
    {
     "name": "stdout",
     "output_type": "stream",
     "text": [
      "Train Accuracy: 0.786\n",
      "Test Accuracy: 0.532\n",
      "Precision: 0.168\n",
      "Recall: 0.447\n",
      "F1 Score: 0.244\n",
      "AUC: 0.498\n"
     ]
    }
   ],
   "source": [
    "from sklearn.metrics import accuracy_score, precision_score, recall_score, f1_score, roc_auc_score\n",
    "\n",
    "print('Train Accuracy:', accuracy_score(train_y, xgb_model.predict(xgb_dtrain)).round(3))\n",
    "print('Test Accuracy:', accuracy_score(test_y, xgb_model.predict(xgb_dtest)).round(3))\n",
    "print('Precision:', precision_score(test_y, xgb_model.predict(xgb_dtest)).round(3))\n",
    "print('Recall:', recall_score(test_y, xgb_model.predict(xgb_dtest)).round(3))\n",
    "print('F1 Score:', f1_score(test_y, xgb_model.predict(xgb_dtest)).round(3))\n",
    "print('AUC:', roc_auc_score(test_y, xgb_model.predict(xgb_dtest)).round(3))"
   ]
  },
  {
   "cell_type": "code",
   "execution_count": 62,
   "metadata": {},
   "outputs": [
    {
     "name": "stdout",
     "output_type": "stream",
     "text": [
      "Confusion matrix: \n",
      "[[253 208]\n",
      " [ 52  42]]\n",
      "              precision    recall  f1-score   support\n",
      "\n",
      "         0.0      0.830     0.549     0.661       461\n",
      "         1.0      0.168     0.447     0.244        94\n",
      "\n",
      "    accuracy                          0.532       555\n",
      "   macro avg      0.499     0.498     0.452       555\n",
      "weighted avg      0.717     0.532     0.590       555\n",
      "\n"
     ]
    }
   ],
   "source": [
    "y_pred = xgb_model.predict(xgb_dtest)\n",
    "# print(\"Accuracy on trainig set: {}\".format(rf_final.score(train_x,train_y)))\n",
    "# print(\"Accuracy on test set: {}\".format(rf_final.score(test_x,test_y)))\n",
    "\n",
    "print(\"Confusion matrix: \\n{}\".format(confusion_matrix(test_y,y_pred)))\n",
    "print(classification_report(test_y,y_pred,digits=3))"
   ]
  },
  {
   "cell_type": "code",
   "execution_count": 63,
   "metadata": {},
   "outputs": [
    {
     "name": "stdout",
     "output_type": "stream",
     "text": [
      "[09:03:47] WARNING: /opt/concourse/worker/volumes/live/7a2b9f41-3287-451b-6691-43e9a6c0910f/volume/xgboost-split_1619728204606/work/src/learner.cc:1061: Starting in XGBoost 1.3.0, the default evaluation metric used with the objective 'binary:logistic' was changed from 'error' to 'logloss'. Explicitly set eval_metric if you'd like to restore the old behavior.\n"
     ]
    },
    {
     "name": "stderr",
     "output_type": "stream",
     "text": [
      "/Users/dasol/opt/anaconda3/lib/python3.8/site-packages/xgboost/sklearn.py:888: UserWarning: The use of label encoder in XGBClassifier is deprecated and will be removed in a future release. To remove this warning, do the following: 1) Pass option use_label_encoder=False when constructing XGBClassifier object; and 2) Encode your labels (y) as integers starting with 0, i.e. 0, 1, 2, ..., [num_class - 1].\n",
      "  warnings.warn(label_encoder_deprecation_msg, UserWarning)\n"
     ]
    },
    {
     "data": {
      "text/html": [
       "<div>\n",
       "<style scoped>\n",
       "    .dataframe tbody tr th:only-of-type {\n",
       "        vertical-align: middle;\n",
       "    }\n",
       "\n",
       "    .dataframe tbody tr th {\n",
       "        vertical-align: top;\n",
       "    }\n",
       "\n",
       "    .dataframe thead th {\n",
       "        text-align: right;\n",
       "    }\n",
       "</style>\n",
       "<table border=\"1\" class=\"dataframe\">\n",
       "  <thead>\n",
       "    <tr style=\"text-align: right;\">\n",
       "      <th></th>\n",
       "      <th>XGB feat</th>\n",
       "      <th>XGB importance</th>\n",
       "    </tr>\n",
       "  </thead>\n",
       "  <tbody>\n",
       "    <tr>\n",
       "      <th>0</th>\n",
       "      <td>child_cd_Y</td>\n",
       "      <td>0.081044</td>\n",
       "    </tr>\n",
       "    <tr>\n",
       "      <th>1</th>\n",
       "      <td>agegroup_50대</td>\n",
       "      <td>0.079520</td>\n",
       "    </tr>\n",
       "    <tr>\n",
       "      <th>2</th>\n",
       "      <td>agegroup_30대</td>\n",
       "      <td>0.070024</td>\n",
       "    </tr>\n",
       "    <tr>\n",
       "      <th>3</th>\n",
       "      <td>dwell_type_전세</td>\n",
       "      <td>0.069831</td>\n",
       "    </tr>\n",
       "    <tr>\n",
       "      <th>4</th>\n",
       "      <td>card_count</td>\n",
       "      <td>0.067714</td>\n",
       "    </tr>\n",
       "    <tr>\n",
       "      <th>5</th>\n",
       "      <td>loan_dur</td>\n",
       "      <td>0.067006</td>\n",
       "    </tr>\n",
       "    <tr>\n",
       "      <th>6</th>\n",
       "      <td>agegroup_40대</td>\n",
       "      <td>0.066351</td>\n",
       "    </tr>\n",
       "    <tr>\n",
       "      <th>7</th>\n",
       "      <td>agegroup_60대</td>\n",
       "      <td>0.064252</td>\n",
       "    </tr>\n",
       "    <tr>\n",
       "      <th>8</th>\n",
       "      <td>agegroup_70대</td>\n",
       "      <td>0.062045</td>\n",
       "    </tr>\n",
       "    <tr>\n",
       "      <th>9</th>\n",
       "      <td>loan_count</td>\n",
       "      <td>0.058119</td>\n",
       "    </tr>\n",
       "  </tbody>\n",
       "</table>\n",
       "</div>"
      ],
      "text/plain": [
       "        XGB feat  XGB importance\n",
       "0     child_cd_Y        0.081044\n",
       "1   agegroup_50대        0.079520\n",
       "2   agegroup_30대        0.070024\n",
       "3  dwell_type_전세        0.069831\n",
       "4     card_count        0.067714\n",
       "5       loan_dur        0.067006\n",
       "6   agegroup_40대        0.066351\n",
       "7   agegroup_60대        0.064252\n",
       "8   agegroup_70대        0.062045\n",
       "9     loan_count        0.058119"
      ]
     },
     "execution_count": 63,
     "metadata": {},
     "output_type": "execute_result"
    }
   ],
   "source": [
    "from xgboost import XGBClassifier\n",
    "\n",
    "model = XGBClassifier(booster='gbtree', importance_type='gain')\n",
    "model.fit(train_x, train_y)\n",
    "model.feature_importances_\n",
    "\n",
    "dt_feat = pd.DataFrame()\n",
    "dt_feat['XGB feat'] = X.columns\n",
    "dt_feat['XGB importance'] = model.feature_importances_\n",
    "dt_feat = dt_feat.sort_values(by='XGB importance', ascending=False).reset_index(drop=True)\n",
    "\n",
    "dt_feat[:10]"
   ]
  },
  {
   "cell_type": "code",
   "execution_count": 64,
   "metadata": {},
   "outputs": [
    {
     "data": {
      "image/png": "[encoded data removed]",
      "text/plain": [
       "<Figure size 576x432 with 1 Axes>"
      ]
     },
     "metadata": {
      "needs_background": "light"
     },
     "output_type": "display_data"
    }
   ],
   "source": [
    "plt.figure(figsize=(8,6))\n",
    "sns.barplot(y='XGB feat', x='XGB importance', data=dt_feat[:10], orient='h')\n",
    "plt.show()"
   ]
  },
  {
   "cell_type": "markdown",
   "metadata": {},
   "source": [
    "# RandomForest"
   ]
  },
  {
   "cell_type": "code",
   "execution_count": 70,
   "metadata": {},
   "outputs": [
    {
     "name": "stdout",
     "output_type": "stream",
     "text": [
      "Accuracy: 92.97 %\n"
     ]
    }
   ],
   "source": [
    "from sklearn.ensemble import RandomForestClassifier\n",
    "from sklearn.metrics import accuracy_score, confusion_matrix, classification_report\n",
    "random_forest_model1 = RandomForestClassifier(n_estimators = 20, # 20번 추정\n",
    "                                             max_depth = 5, # 트리 최대 깊이 5\n",
    "                                             random_state = 42) # 시드값 고정\n",
    "rf_final = random_forest_model1.fit(train_x, train_y) # 학습 진행\n",
    "print(\"Accuracy: %.2f\" % (accuracy_score(test_y, rf_final.predict(test_x)) * 100), \"%\") # 정확도 % 계산"
   ]
  },
  {
   "cell_type": "code",
   "execution_count": 71,
   "metadata": {},
   "outputs": [
    {
     "name": "stdout",
     "output_type": "stream",
     "text": [
      "Accuracy on trainig set: 0.9164164164164165\n",
      "Accuracy on test set: 0.9297297297297298\n",
      "Confusion matrix: \n",
      "[[440  21]\n",
      " [ 18  76]]\n",
      "              precision    recall  f1-score   support\n",
      "\n",
      "         0.0      0.961     0.954     0.958       461\n",
      "         1.0      0.784     0.809     0.796        94\n",
      "\n",
      "    accuracy                          0.930       555\n",
      "   macro avg      0.872     0.881     0.877       555\n",
      "weighted avg      0.931     0.930     0.930       555\n",
      "\n"
     ]
    }
   ],
   "source": [
    "y_pred=rf_final.predict(test_x)\n",
    "print(\"Accuracy on trainig set: {}\".format(rf_final.score(train_x,train_y)))\n",
    "print(\"Accuracy on test set: {}\".format(rf_final.score(test_x,test_y)))\n",
    "\n",
    "print(\"Confusion matrix: \\n{}\".format(confusion_matrix(test_y,y_pred)))\n",
    "\n",
    "print(classification_report(test_y,y_pred,digits=3))"
   ]
  },
  {
   "cell_type": "code",
   "execution_count": null,
   "metadata": {},
   "outputs": [],
   "source": [
    "# from sklearn.metrics import accuracy_score, precision_score, recall_score, f1_score, roc_auc_score\n",
    "\n",
    "# print('Train Accuracy:', accuracy_score(train_y, rf_final.predict(train_x)).round(3))\n",
    "# print('Test Accuracy:', accuracy_score(test_y, rf_final.predict(xgb_dtest)).round(3))\n",
    "# print('Precision:', precision_score(test_y, rf_final.predict(xgb_dtest)).round(3))\n",
    "# print('Recall:', recall_score(test_y, rf_final.predict(xgb_dtest)).round(3))\n",
    "# print('F1 Score:', f1_score(test_y, rf_final.predict(xgb_dtest)).round(3))\n",
    "# print('AUC:', roc_auc_score(test_y, rf_final.predict(xgb_dtest)).round(3))"
   ]
  },
  {
   "cell_type": "code",
   "execution_count": 72,
   "metadata": {},
   "outputs": [
    {
     "data": {
      "text/html": [
       "<div>\n",
       "<style scoped>\n",
       "    .dataframe tbody tr th:only-of-type {\n",
       "        vertical-align: middle;\n",
       "    }\n",
       "\n",
       "    .dataframe tbody tr th {\n",
       "        vertical-align: top;\n",
       "    }\n",
       "\n",
       "    .dataframe thead th {\n",
       "        text-align: right;\n",
       "    }\n",
       "</style>\n",
       "<table border=\"1\" class=\"dataframe\">\n",
       "  <thead>\n",
       "    <tr style=\"text-align: right;\">\n",
       "      <th></th>\n",
       "      <th>Feature</th>\n",
       "      <th>Importance</th>\n",
       "    </tr>\n",
       "  </thead>\n",
       "  <tbody>\n",
       "    <tr>\n",
       "      <th>10</th>\n",
       "      <td>agegroup_70대</td>\n",
       "      <td>0.001</td>\n",
       "    </tr>\n",
       "    <tr>\n",
       "      <th>7</th>\n",
       "      <td>agegroup_40대</td>\n",
       "      <td>0.001</td>\n",
       "    </tr>\n",
       "    <tr>\n",
       "      <th>11</th>\n",
       "      <td>agegroup_80대이상</td>\n",
       "      <td>0.001</td>\n",
       "    </tr>\n",
       "    <tr>\n",
       "      <th>8</th>\n",
       "      <td>agegroup_50대</td>\n",
       "      <td>0.001</td>\n",
       "    </tr>\n",
       "    <tr>\n",
       "      <th>6</th>\n",
       "      <td>agegroup_30대</td>\n",
       "      <td>0.002</td>\n",
       "    </tr>\n",
       "    <tr>\n",
       "      <th>13</th>\n",
       "      <td>dwell_type_전세</td>\n",
       "      <td>0.002</td>\n",
       "    </tr>\n",
       "    <tr>\n",
       "      <th>12</th>\n",
       "      <td>dwell_type_자가</td>\n",
       "      <td>0.002</td>\n",
       "    </tr>\n",
       "    <tr>\n",
       "      <th>5</th>\n",
       "      <td>gender_여성</td>\n",
       "      <td>0.004</td>\n",
       "    </tr>\n",
       "    <tr>\n",
       "      <th>9</th>\n",
       "      <td>agegroup_60대</td>\n",
       "      <td>0.004</td>\n",
       "    </tr>\n",
       "    <tr>\n",
       "      <th>15</th>\n",
       "      <td>flag_priv_biz_cd_Y</td>\n",
       "      <td>0.005</td>\n",
       "    </tr>\n",
       "    <tr>\n",
       "      <th>14</th>\n",
       "      <td>child_cd_Y</td>\n",
       "      <td>0.005</td>\n",
       "    </tr>\n",
       "    <tr>\n",
       "      <th>1</th>\n",
       "      <td>loan_dur</td>\n",
       "      <td>0.023</td>\n",
       "    </tr>\n",
       "    <tr>\n",
       "      <th>0</th>\n",
       "      <td>card_count</td>\n",
       "      <td>0.041</td>\n",
       "    </tr>\n",
       "    <tr>\n",
       "      <th>2</th>\n",
       "      <td>loan_count</td>\n",
       "      <td>0.072</td>\n",
       "    </tr>\n",
       "    <tr>\n",
       "      <th>4</th>\n",
       "      <td>over_count</td>\n",
       "      <td>0.321</td>\n",
       "    </tr>\n",
       "    <tr>\n",
       "      <th>3</th>\n",
       "      <td>over_dur</td>\n",
       "      <td>0.515</td>\n",
       "    </tr>\n",
       "  </tbody>\n",
       "</table>\n",
       "</div>"
      ],
      "text/plain": [
       "               Feature  Importance\n",
       "10        agegroup_70대       0.001\n",
       "7         agegroup_40대       0.001\n",
       "11      agegroup_80대이상       0.001\n",
       "8         agegroup_50대       0.001\n",
       "6         agegroup_30대       0.002\n",
       "13       dwell_type_전세       0.002\n",
       "12       dwell_type_자가       0.002\n",
       "5            gender_여성       0.004\n",
       "9         agegroup_60대       0.004\n",
       "15  flag_priv_biz_cd_Y       0.005\n",
       "14          child_cd_Y       0.005\n",
       "1             loan_dur       0.023\n",
       "0           card_count       0.041\n",
       "2           loan_count       0.072\n",
       "4           over_count       0.321\n",
       "3             over_dur       0.515"
      ]
     },
     "execution_count": 72,
     "metadata": {},
     "output_type": "execute_result"
    }
   ],
   "source": [
    "df_importance = pd.DataFrame()\n",
    "feature_name = X.columns\n",
    "df_importance['Feature'] = feature_name\n",
    "df_importance['Importance'] = rf_final.feature_importances_\n",
    "df_importance.sort_values('Importance', ascending=True, inplace=True)\n",
    "df_importance.round(3)\n"
   ]
  },
  {
   "cell_type": "code",
   "execution_count": 73,
   "metadata": {},
   "outputs": [
    {
     "data": {
      "text/plain": [
       "Text(0, 0.5, '변수')"
      ]
     },
     "execution_count": 73,
     "metadata": {},
     "output_type": "execute_result"
    },
    {
     "data": {
      "image/png": "[encoded data removed]",
      "text/plain": [
       "<Figure size 432x288 with 1 Axes>"
      ]
     },
     "metadata": {
      "needs_background": "light"
     },
     "output_type": "display_data"
    }
   ],
   "source": [
    "coordinates = range(len(df_importance))\n",
    "plt.barh(y=coordinates, width=df_importance['Importance'])\n",
    "plt.yticks(coordinates, df_importance['Feature'])\n",
    "plt.xlabel('변수중요도')\n",
    "plt.ylabel('변수')"
   ]
  },
  {
   "cell_type": "code",
   "execution_count": null,
   "metadata": {},
   "outputs": [],
   "source": []
  }
 ],
 "metadata": {
  "kernelspec": {
   "display_name": "Python 3",
   "language": "python",
   "name": "python3"
  },
  "language_info": {
   "codemirror_mode": {
    "name": "ipython",
    "version": 3
   },
   "file_extension": ".py",
   "mimetype": "text/x-python",
   "name": "python",
   "nbconvert_exporter": "python",
   "pygments_lexer": "ipython3",
   "version": "3.8.5"
  },
  "toc": {
   "base_numbering": 1,
   "nav_menu": {},
   "number_sections": false,
   "sideBar": true,
   "skip_h1_title": false,
   "title_cell": "Table of Contents",
   "title_sidebar": "Contents",
   "toc_cell": false,
   "toc_position": {},
   "toc_section_display": true,
   "toc_window_display": false
  }
 },
 "nbformat": 4,
 "nbformat_minor": 5
}
