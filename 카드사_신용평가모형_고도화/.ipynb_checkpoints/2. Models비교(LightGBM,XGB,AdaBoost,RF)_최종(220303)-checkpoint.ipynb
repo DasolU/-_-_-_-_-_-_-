{
 "cells": [
  {
   "cell_type": "code",
   "execution_count": 31,
   "metadata": {},
   "outputs": [],
   "source": [
    "import pandas as pd\n",
    "import numpy as np\n",
    "import os\n",
    "import matplotlib\n",
    "import matplotlib.pyplot as plt\n",
    "import seaborn as sns\n",
    "\n",
    "import scipy.stats\n",
    "from scipy import stats\n",
    "from scipy.stats import ttest_rel\n",
    "from scipy.stats import ttest_ind\n",
    "from scipy.stats import shapiro\n",
    "from scipy.stats import chi2_contingency\n",
    "from scipy.stats import mannwhitneyu\n",
    "\n",
    "from statsmodels.stats.proportion import proportions_ztest\n",
    "from statsmodels.stats.anova import anova_lm\n",
    "from statsmodels.stats.stattools import omni_normtest\n",
    "\n",
    "from statsmodels.formula.api import ols\n",
    "import statsmodels.formula.api as smf\n",
    "import statsmodels.api as sm\n",
    "from statsmodels.api import qqplot, add_constant\n",
    "\n",
    "from sklearn.preprocessing import scale, minmax_scale, robust_scale\n",
    "from sklearn.model_selection import train_test_split\n",
    "from sklearn.metrics import accuracy_score, f1_score\n",
    "from sklearn.metrics import confusion_matrix, classification_report\n",
    "\n",
    "# %matplotlib inline\n",
    "# plt.set(font=\"AppleGothic\")\n",
    "# plt.rcParams['axes.unicode_minus']=False\n",
    "\n",
    "%matplotlib inline\n",
    "matplotlib.rc('font', family='AppleGothic')\n",
    "plt.rc('font',  family='AppleGothic')\n",
    "plt.rcParams['axes.unicode_minus']=False"
   ]
  },
  {
   "cell_type": "markdown",
   "metadata": {},
   "source": [
    "# 파일 불러오기"
   ]
  },
  {
   "cell_type": "code",
   "execution_count": 5,
   "metadata": {},
   "outputs": [],
   "source": [
    "df = pd.read_csv('/Users/dasol/Documents/Job/포스코아카데미/강의자료/포스코/빅데이터프로젝트/A2_신용카드/CreDB_chaju.csv', engine='python', encoding='cp949')\n",
    "\n",
    "# overdue 1개라도 있으면 1 , 전혀 없으면 0으로 계산된 데이터\n",
    "df_target = pd.read_csv('/Users/dasol/Documents/Job/포스코아카데미/강의자료/포스코/빅데이터프로젝트/A2_신용카드/df_final.csv', engine='python')"
   ]
  },
  {
   "cell_type": "code",
   "execution_count": 10,
   "metadata": {},
   "outputs": [
    {
     "data": {
      "text/plain": [
       "Index(['chaju_id', 'credit_class', 'score_risk', 'gender', 'age', 'agegroup',\n",
       "       'job', 'edu', 'dwell_type', 'house_type', 'marriage', 'income_home_grp',\n",
       "       'income_ind_grp', 'expenditure_grp', 'child_cd', 'no_child',\n",
       "       'flag_priv_biz_cd', 'net_income', 'family_size', 'income_person',\n",
       "       'card_count', 'loan_amt', 'loan_dur', 'loan_count', 'over_amt',\n",
       "       'over_dur', 'over_count', 'is_overdue', 'sum_loan_at_time',\n",
       "       'sum_cashservice_3y', 'sum_cardloan_3y', 'no_cashservice_3y',\n",
       "       'no_cardloan_3y', 'no_creditcard_over', 'sum_creditcard_over',\n",
       "       'max_loan_amt', 'max_over_amt', 'income_ind_test', 'expend_ind_test',\n",
       "       'ind_net_income', 'loan_at_time_div_by_net', 'cardloan_no_diff_com',\n",
       "       'cashservice_no_diff_com'],\n",
       "      dtype='object')"
      ]
     },
     "execution_count": 10,
     "metadata": {},
     "output_type": "execute_result"
    }
   ],
   "source": [
    "df_target.columns"
   ]
  },
  {
   "cell_type": "code",
   "execution_count": 11,
   "metadata": {},
   "outputs": [],
   "source": [
    "# 1. 기존 모델과의 KS통계량 비교시 사용하는 데이터: 기존 모델에서 사용한 변수들과 비슷한 변수들만 사용하는 버전\n",
    "# data=df_raw[['is_overdue','agegroup','job','edu','dwell_type','house_type','marriage',\n",
    "#              'income_home_grp','expenditure_grp','card_count','loan_count',\n",
    "#               'flag_priv_biz_cd', 'loan_amt',\n",
    "#              'over_count','over_amt']]\n",
    "# data['loan_amt']=np.log10(data['loan_amt']+1) # 금액의 범위가 너무 다양하므로 log로 변환 + 금액이0일 경우 log 에러 방지를 위해 +1\n",
    "# data['over_amt']=np.log10(data['over_amt']+1)\n",
    "\n",
    "# 2. 최종 모델에서 사용한 데이터: 기존 모델 변수들 - (대출금액, 연체금액) + 파생 변수\n",
    "df_target = df_target[['gender','agegroup','job','edu','dwell_type', 'house_type', 'flag_priv_biz_cd', 'card_count', 'loan_dur','loan_count',\n",
    " 'over_dur', 'over_count', 'is_overdue', 'loan_at_time_div_by_net', 'cardloan_no_diff_com', 'cashservice_no_diff_com']]"
   ]
  },
  {
   "cell_type": "code",
   "execution_count": 14,
   "metadata": {},
   "outputs": [
    {
     "data": {
      "text/plain": [
       "['gender',\n",
       " 'agegroup',\n",
       " 'job',\n",
       " 'edu',\n",
       " 'dwell_type',\n",
       " 'house_type',\n",
       " 'flag_priv_biz_cd',\n",
       " 'card_count',\n",
       " 'loan_dur',\n",
       " 'loan_count',\n",
       " 'over_dur',\n",
       " 'over_count',\n",
       " 'is_overdue',\n",
       " 'loan_at_time_div_by_net',\n",
       " 'cardloan_no_diff_com',\n",
       " 'cashservice_no_diff_com']"
      ]
     },
     "execution_count": 14,
     "metadata": {},
     "output_type": "execute_result"
    }
   ],
   "source": [
    "list(df_target.columns)"
   ]
  },
  {
   "cell_type": "markdown",
   "metadata": {},
   "source": [
    "# 모델\n"
   ]
  },
  {
   "cell_type": "code",
   "execution_count": 15,
   "metadata": {},
   "outputs": [],
   "source": [
    "import numpy as np\n",
    "import pandas as pd\n",
    "import seaborn as sns\n",
    "import matplotlib.pyplot as plt\n",
    "import warnings, random\n",
    "warnings.filterwarnings(action='ignore')\n",
    "\n",
    "from sklearn.metrics import log_loss\n",
    "from sklearn.preprocessing import StandardScaler\n",
    "from category_encoders.ordinal import OrdinalEncoder\n",
    "from sklearn.model_selection import StratifiedKFold\n",
    "\n",
    "from sklearn.cluster import KMeans\n",
    "from catboost import CatBoostClassifier, Pool\n",
    "\n",
    "import time"
   ]
  },
  {
   "cell_type": "markdown",
   "metadata": {},
   "source": [
    "### 모델에 사용할 변수만 불러오기"
   ]
  },
  {
   "cell_type": "code",
   "execution_count": 16,
   "metadata": {},
   "outputs": [],
   "source": [
    "df_raw = df_target"
   ]
  },
  {
   "cell_type": "code",
   "execution_count": 18,
   "metadata": {},
   "outputs": [
    {
     "data": {
      "text/plain": [
       "Index(['gender', 'agegroup', 'job', 'edu', 'dwell_type', 'house_type',\n",
       "       'flag_priv_biz_cd', 'card_count', 'loan_dur', 'loan_count', 'over_dur',\n",
       "       'over_count', 'is_overdue', 'loan_at_time_div_by_net',\n",
       "       'cardloan_no_diff_com', 'cashservice_no_diff_com'],\n",
       "      dtype='object')"
      ]
     },
     "execution_count": 18,
     "metadata": {},
     "output_type": "execute_result"
    }
   ],
   "source": [
    "df_raw.columns"
   ]
  },
  {
   "cell_type": "code",
   "execution_count": 20,
   "metadata": {},
   "outputs": [
    {
     "name": "stdout",
     "output_type": "stream",
     "text": [
      "train data size: (1294, 16)\n",
      "test data size: (555, 16)\n"
     ]
    }
   ],
   "source": [
    "from sklearn.model_selection import train_test_split\n",
    "\n",
    "train, test = train_test_split(df_raw, test_size=0.3, random_state=1234)\n",
    "train.reset_index(drop=True, inplace=True)\n",
    "test.reset_index(drop=True, inplace=True)\n",
    "\n",
    "print('train data size: {}'.format(train.shape))\n",
    "print('test data size: {}'.format(test.shape))"
   ]
  },
  {
   "cell_type": "markdown",
   "metadata": {},
   "source": [
    "## Numeric, Category 컬럼 분류"
   ]
  },
  {
   "cell_type": "code",
   "execution_count": 23,
   "metadata": {},
   "outputs": [
    {
     "name": "stdout",
     "output_type": "stream",
     "text": [
      "['card_count', 'loan_dur', 'loan_count', 'over_dur', 'over_count', 'loan_at_time_div_by_net', 'cardloan_no_diff_com', 'cashservice_no_diff_com']\n",
      "Number of Numerical features:  8\n",
      "\n",
      "\n",
      "['gender', 'agegroup', 'job', 'edu', 'dwell_type', 'house_type', 'flag_priv_biz_cd']\n",
      "Number of Categorical features:  7\n"
     ]
    }
   ],
   "source": [
    "numerical_feats = train.dtypes[train.dtypes != \"object\"].index.tolist()\n",
    "numerical_feats.remove('is_overdue')\n",
    "print(numerical_feats)\n",
    "print(\"Number of Numerical features: \", len(numerical_feats))\n",
    "print('\\n')\n",
    "\n",
    "categorical_feats = train.dtypes[train.dtypes == \"object\"].index.tolist()\n",
    "print(categorical_feats)\n",
    "print(\"Number of Categorical features: \", len(categorical_feats))"
   ]
  },
  {
   "cell_type": "markdown",
   "metadata": {},
   "source": [
    "# OrdinalEncoder: 범주형을 숫자형으로 변환"
   ]
  },
  {
   "cell_type": "code",
   "execution_count": 25,
   "metadata": {},
   "outputs": [],
   "source": [
    "encoder = OrdinalEncoder(categorical_feats)\n",
    "train[categorical_feats] = encoder.fit_transform(train[categorical_feats], train['is_overdue'])\n",
    "test[categorical_feats] = encoder.transform(test[categorical_feats])\n"
   ]
  },
  {
   "cell_type": "code",
   "execution_count": 26,
   "metadata": {
    "scrolled": true
   },
   "outputs": [
    {
     "data": {
      "text/html": [
       "<div>\n",
       "<style scoped>\n",
       "    .dataframe tbody tr th:only-of-type {\n",
       "        vertical-align: middle;\n",
       "    }\n",
       "\n",
       "    .dataframe tbody tr th {\n",
       "        vertical-align: top;\n",
       "    }\n",
       "\n",
       "    .dataframe thead th {\n",
       "        text-align: right;\n",
       "    }\n",
       "</style>\n",
       "<table border=\"1\" class=\"dataframe\">\n",
       "  <thead>\n",
       "    <tr style=\"text-align: right;\">\n",
       "      <th></th>\n",
       "      <th>gender</th>\n",
       "      <th>agegroup</th>\n",
       "      <th>job</th>\n",
       "      <th>edu</th>\n",
       "      <th>dwell_type</th>\n",
       "      <th>house_type</th>\n",
       "      <th>flag_priv_biz_cd</th>\n",
       "      <th>card_count</th>\n",
       "      <th>loan_dur</th>\n",
       "      <th>loan_count</th>\n",
       "      <th>over_dur</th>\n",
       "      <th>over_count</th>\n",
       "      <th>is_overdue</th>\n",
       "      <th>loan_at_time_div_by_net</th>\n",
       "      <th>cardloan_no_diff_com</th>\n",
       "      <th>cashservice_no_diff_com</th>\n",
       "    </tr>\n",
       "  </thead>\n",
       "  <tbody>\n",
       "    <tr>\n",
       "      <th>0</th>\n",
       "      <td>1</td>\n",
       "      <td>1</td>\n",
       "      <td>1</td>\n",
       "      <td>1</td>\n",
       "      <td>1</td>\n",
       "      <td>1</td>\n",
       "      <td>1</td>\n",
       "      <td>2.0</td>\n",
       "      <td>4.00</td>\n",
       "      <td>2.0</td>\n",
       "      <td>0.0</td>\n",
       "      <td>0.0</td>\n",
       "      <td>0.0</td>\n",
       "      <td>1.880814</td>\n",
       "      <td>0.0</td>\n",
       "      <td>1.0</td>\n",
       "    </tr>\n",
       "    <tr>\n",
       "      <th>1</th>\n",
       "      <td>2</td>\n",
       "      <td>2</td>\n",
       "      <td>2</td>\n",
       "      <td>1</td>\n",
       "      <td>1</td>\n",
       "      <td>1</td>\n",
       "      <td>1</td>\n",
       "      <td>0.0</td>\n",
       "      <td>0.00</td>\n",
       "      <td>0.0</td>\n",
       "      <td>11.0</td>\n",
       "      <td>1.0</td>\n",
       "      <td>0.0</td>\n",
       "      <td>0.000000</td>\n",
       "      <td>0.0</td>\n",
       "      <td>0.0</td>\n",
       "    </tr>\n",
       "    <tr>\n",
       "      <th>2</th>\n",
       "      <td>1</td>\n",
       "      <td>3</td>\n",
       "      <td>1</td>\n",
       "      <td>2</td>\n",
       "      <td>1</td>\n",
       "      <td>1</td>\n",
       "      <td>1</td>\n",
       "      <td>1.0</td>\n",
       "      <td>13.00</td>\n",
       "      <td>1.0</td>\n",
       "      <td>0.0</td>\n",
       "      <td>0.0</td>\n",
       "      <td>0.0</td>\n",
       "      <td>4.380229</td>\n",
       "      <td>0.0</td>\n",
       "      <td>0.0</td>\n",
       "    </tr>\n",
       "    <tr>\n",
       "      <th>3</th>\n",
       "      <td>2</td>\n",
       "      <td>1</td>\n",
       "      <td>3</td>\n",
       "      <td>1</td>\n",
       "      <td>1</td>\n",
       "      <td>2</td>\n",
       "      <td>1</td>\n",
       "      <td>1.0</td>\n",
       "      <td>7.50</td>\n",
       "      <td>2.0</td>\n",
       "      <td>0.0</td>\n",
       "      <td>0.0</td>\n",
       "      <td>0.0</td>\n",
       "      <td>0.927508</td>\n",
       "      <td>0.0</td>\n",
       "      <td>0.0</td>\n",
       "    </tr>\n",
       "    <tr>\n",
       "      <th>4</th>\n",
       "      <td>1</td>\n",
       "      <td>1</td>\n",
       "      <td>1</td>\n",
       "      <td>1</td>\n",
       "      <td>2</td>\n",
       "      <td>1</td>\n",
       "      <td>1</td>\n",
       "      <td>2.0</td>\n",
       "      <td>8.00</td>\n",
       "      <td>2.0</td>\n",
       "      <td>0.0</td>\n",
       "      <td>0.0</td>\n",
       "      <td>0.0</td>\n",
       "      <td>0.000000</td>\n",
       "      <td>0.0</td>\n",
       "      <td>0.0</td>\n",
       "    </tr>\n",
       "    <tr>\n",
       "      <th>...</th>\n",
       "      <td>...</td>\n",
       "      <td>...</td>\n",
       "      <td>...</td>\n",
       "      <td>...</td>\n",
       "      <td>...</td>\n",
       "      <td>...</td>\n",
       "      <td>...</td>\n",
       "      <td>...</td>\n",
       "      <td>...</td>\n",
       "      <td>...</td>\n",
       "      <td>...</td>\n",
       "      <td>...</td>\n",
       "      <td>...</td>\n",
       "      <td>...</td>\n",
       "      <td>...</td>\n",
       "      <td>...</td>\n",
       "    </tr>\n",
       "    <tr>\n",
       "      <th>1289</th>\n",
       "      <td>2</td>\n",
       "      <td>6</td>\n",
       "      <td>3</td>\n",
       "      <td>1</td>\n",
       "      <td>1</td>\n",
       "      <td>1</td>\n",
       "      <td>2</td>\n",
       "      <td>6.0</td>\n",
       "      <td>13.00</td>\n",
       "      <td>2.0</td>\n",
       "      <td>0.0</td>\n",
       "      <td>0.0</td>\n",
       "      <td>0.0</td>\n",
       "      <td>1.652540</td>\n",
       "      <td>0.0</td>\n",
       "      <td>0.0</td>\n",
       "    </tr>\n",
       "    <tr>\n",
       "      <th>1290</th>\n",
       "      <td>1</td>\n",
       "      <td>6</td>\n",
       "      <td>3</td>\n",
       "      <td>1</td>\n",
       "      <td>1</td>\n",
       "      <td>1</td>\n",
       "      <td>2</td>\n",
       "      <td>3.0</td>\n",
       "      <td>2.50</td>\n",
       "      <td>2.0</td>\n",
       "      <td>0.0</td>\n",
       "      <td>0.0</td>\n",
       "      <td>0.0</td>\n",
       "      <td>0.000000</td>\n",
       "      <td>1.0</td>\n",
       "      <td>1.0</td>\n",
       "    </tr>\n",
       "    <tr>\n",
       "      <th>1291</th>\n",
       "      <td>1</td>\n",
       "      <td>4</td>\n",
       "      <td>1</td>\n",
       "      <td>1</td>\n",
       "      <td>1</td>\n",
       "      <td>1</td>\n",
       "      <td>1</td>\n",
       "      <td>2.0</td>\n",
       "      <td>13.00</td>\n",
       "      <td>1.0</td>\n",
       "      <td>0.0</td>\n",
       "      <td>0.0</td>\n",
       "      <td>0.0</td>\n",
       "      <td>4.041432</td>\n",
       "      <td>0.0</td>\n",
       "      <td>0.0</td>\n",
       "    </tr>\n",
       "    <tr>\n",
       "      <th>1292</th>\n",
       "      <td>2</td>\n",
       "      <td>7</td>\n",
       "      <td>4</td>\n",
       "      <td>7</td>\n",
       "      <td>1</td>\n",
       "      <td>1</td>\n",
       "      <td>1</td>\n",
       "      <td>2.0</td>\n",
       "      <td>10.86</td>\n",
       "      <td>7.0</td>\n",
       "      <td>0.0</td>\n",
       "      <td>0.0</td>\n",
       "      <td>0.0</td>\n",
       "      <td>3.969229</td>\n",
       "      <td>1.0</td>\n",
       "      <td>1.0</td>\n",
       "    </tr>\n",
       "    <tr>\n",
       "      <th>1293</th>\n",
       "      <td>1</td>\n",
       "      <td>6</td>\n",
       "      <td>5</td>\n",
       "      <td>1</td>\n",
       "      <td>1</td>\n",
       "      <td>1</td>\n",
       "      <td>1</td>\n",
       "      <td>3.0</td>\n",
       "      <td>5.00</td>\n",
       "      <td>3.0</td>\n",
       "      <td>0.0</td>\n",
       "      <td>0.0</td>\n",
       "      <td>0.0</td>\n",
       "      <td>1.623249</td>\n",
       "      <td>0.0</td>\n",
       "      <td>3.0</td>\n",
       "    </tr>\n",
       "  </tbody>\n",
       "</table>\n",
       "<p>1294 rows × 16 columns</p>\n",
       "</div>"
      ],
      "text/plain": [
       "      gender  agegroup  job  edu  dwell_type  house_type  flag_priv_biz_cd  \\\n",
       "0          1         1    1    1           1           1                 1   \n",
       "1          2         2    2    1           1           1                 1   \n",
       "2          1         3    1    2           1           1                 1   \n",
       "3          2         1    3    1           1           2                 1   \n",
       "4          1         1    1    1           2           1                 1   \n",
       "...      ...       ...  ...  ...         ...         ...               ...   \n",
       "1289       2         6    3    1           1           1                 2   \n",
       "1290       1         6    3    1           1           1                 2   \n",
       "1291       1         4    1    1           1           1                 1   \n",
       "1292       2         7    4    7           1           1                 1   \n",
       "1293       1         6    5    1           1           1                 1   \n",
       "\n",
       "      card_count  loan_dur  loan_count  over_dur  over_count  is_overdue  \\\n",
       "0            2.0      4.00         2.0       0.0         0.0         0.0   \n",
       "1            0.0      0.00         0.0      11.0         1.0         0.0   \n",
       "2            1.0     13.00         1.0       0.0         0.0         0.0   \n",
       "3            1.0      7.50         2.0       0.0         0.0         0.0   \n",
       "4            2.0      8.00         2.0       0.0         0.0         0.0   \n",
       "...          ...       ...         ...       ...         ...         ...   \n",
       "1289         6.0     13.00         2.0       0.0         0.0         0.0   \n",
       "1290         3.0      2.50         2.0       0.0         0.0         0.0   \n",
       "1291         2.0     13.00         1.0       0.0         0.0         0.0   \n",
       "1292         2.0     10.86         7.0       0.0         0.0         0.0   \n",
       "1293         3.0      5.00         3.0       0.0         0.0         0.0   \n",
       "\n",
       "      loan_at_time_div_by_net  cardloan_no_diff_com  cashservice_no_diff_com  \n",
       "0                    1.880814                   0.0                      1.0  \n",
       "1                    0.000000                   0.0                      0.0  \n",
       "2                    4.380229                   0.0                      0.0  \n",
       "3                    0.927508                   0.0                      0.0  \n",
       "4                    0.000000                   0.0                      0.0  \n",
       "...                       ...                   ...                      ...  \n",
       "1289                 1.652540                   0.0                      0.0  \n",
       "1290                 0.000000                   1.0                      1.0  \n",
       "1291                 4.041432                   0.0                      0.0  \n",
       "1292                 3.969229                   1.0                      1.0  \n",
       "1293                 1.623249                   0.0                      3.0  \n",
       "\n",
       "[1294 rows x 16 columns]"
      ]
     },
     "execution_count": 26,
     "metadata": {},
     "output_type": "execute_result"
    }
   ],
   "source": [
    "train"
   ]
  },
  {
   "cell_type": "markdown",
   "metadata": {},
   "source": [
    "# train, test 데이터 생성"
   ]
  },
  {
   "cell_type": "code",
   "execution_count": 27,
   "metadata": {},
   "outputs": [
    {
     "name": "stdout",
     "output_type": "stream",
     "text": [
      "(1294, 15) (555, 15) (1294,) (555,)\n"
     ]
    }
   ],
   "source": [
    "target = 'is_overdue'\n",
    "train_x, train_y = train.drop(target, axis=1), train[target]\n",
    "test_x, test_y = test.drop(target, axis=1), test[target]\n",
    "print(train_x.shape, test_x.shape, train_y.shape, test_y.shape) # 데이터 개수 확인"
   ]
  },
  {
   "cell_type": "markdown",
   "metadata": {},
   "source": [
    "# LigthGBM\n",
    "# : Accuracy: 94.2 %, f1-score 0.807,Time 0.18s"
   ]
  },
  {
   "cell_type": "code",
   "execution_count": 35,
   "metadata": {},
   "outputs": [
    {
     "name": "stdout",
     "output_type": "stream",
     "text": [
      "[LightGBM] [Warning] Accuracy may be bad since you didn't explicitly set num_leaves OR 2^max_depth > num_leaves. (num_leaves=31).\n",
      "[LightGBM] [Warning] Accuracy may be bad since you didn't explicitly set num_leaves OR 2^max_depth > num_leaves. (num_leaves=31).\n",
      "[LightGBM] [Warning] Auto-choosing row-wise multi-threading, the overhead of testing was 0.000885 seconds.\n",
      "You can set `force_row_wise=true` to remove the overhead.\n",
      "And if memory is not enough, you can set `force_col_wise=true`.\n",
      "[LightGBM] [Info] Total Bins 407\n",
      "[LightGBM] [Info] Number of data points in the train set: 1294, number of used features: 15\n",
      "[LightGBM] [Info] Start training from score -0.183559\n",
      "[LightGBM] [Info] Start training from score -1.785596\n",
      "[LightGBM] [Info] Start training from score -34.538776\n",
      "Accuracy: 94.23 %\n",
      "Time: 0.18 seconds\n",
      "              precision    recall  f1-score   support\n",
      "\n",
      "         0.0      0.942     0.991     0.966       460\n",
      "         1.0      0.944     0.705     0.807        95\n",
      "\n",
      "    accuracy                          0.942       555\n",
      "   macro avg      0.943     0.848     0.887       555\n",
      "weighted avg      0.942     0.942     0.939       555\n",
      "\n"
     ]
    }
   ],
   "source": [
    "import lightgbm as lgb\n",
    "start = time.time() # 시작 시간 지정\n",
    "lgb_dtrain = lgb.Dataset(data = train_x, label = train_y) # 학습 데이터를 LightGBM 모델에 맞게 변환\n",
    "lgb_param = {'max_depth': 10, # 트리 깊이\n",
    "            'learning_rate': 0.01, # Step Size\n",
    "            'n_estimators': 100, # Number of trees, 트리 생성 개수\n",
    "            'objective': 'multiclass', # 목적 함수\n",
    "            'num_class': len(set(train_y)) + 1} # 파라미터 추가, Label must be in [0, num_class) -> num_class보다 1 커야한다.\n",
    "lgb_model = lgb.train(params = lgb_param, train_set = lgb_dtrain) # 학습 진행\n",
    "lgb_model_predict = np.argmax(lgb_model.predict(test_x), axis = 1) # 평가 데이터 예측, Softmax의 결과값 중 가장 큰 값의 Label로 예측\n",
    "print(\"Accuracy: %.2f\" % (accuracy_score(test_y, lgb_model_predict) * 100), \"%\") # 정확도 % 계산\n",
    "print(\"Time: %.2f\" % (time.time() - start), \"seconds\") # 코드 실행 시간 계산\n",
    "print(classification_report(test_y, lgb_model_predict,digits=3))"
   ]
  },
  {
   "cell_type": "markdown",
   "metadata": {},
   "source": [
    "# XGboost\n",
    "# : Accuracy: 93.3 %, f1-score 0.786,Time 0.06s"
   ]
  },
  {
   "cell_type": "code",
   "execution_count": 37,
   "metadata": {},
   "outputs": [
    {
     "name": "stdout",
     "output_type": "stream",
     "text": [
      "[21:58:53] WARNING: /opt/concourse/worker/volumes/live/7a2b9f41-3287-451b-6691-43e9a6c0910f/volume/xgboost-split_1619728204606/work/src/learner.cc:541: \n",
      "Parameters: { n_estimators } might not be used.\n",
      "\n",
      "  This may not be accurate due to some parameters are only used in language bindings but\n",
      "  passed down to XGBoost core.  Or some parameters are not used but slip through this\n",
      "  verification. Please open an issue if you find above cases.\n",
      "\n",
      "\n",
      "[21:58:53] WARNING: /opt/concourse/worker/volumes/live/7a2b9f41-3287-451b-6691-43e9a6c0910f/volume/xgboost-split_1619728204606/work/src/learner.cc:1061: Starting in XGBoost 1.3.0, the default evaluation metric used with the objective 'multi:softmax' was changed from 'merror' to 'mlogloss'. Explicitly set eval_metric if you'd like to restore the old behavior.\n",
      "Accuracy: 93.33 %\n",
      "Time: 0.06 seconds\n",
      "              precision    recall  f1-score   support\n",
      "\n",
      "         0.0      0.943     0.978     0.961       460\n",
      "         1.0      0.872     0.716     0.786        95\n",
      "\n",
      "    accuracy                          0.933       555\n",
      "   macro avg      0.908     0.847     0.873       555\n",
      "weighted avg      0.931     0.933     0.931       555\n",
      "\n"
     ]
    }
   ],
   "source": [
    "# !pip install xgboost\n",
    "import xgboost as xgb\n",
    "start = time.time() # 시작 시간 지정\n",
    "xgb_dtrain = xgb.DMatrix(data = train_x, label = train_y) # 학습 데이터를 XGBoost 모델에 맞게 변환\n",
    "xgb_dtest = xgb.DMatrix(data = test_x) # 평가 데이터를 XGBoost 모델에 맞게 변환\n",
    "# 기본적인 hyperparameter\n",
    "xgb_param = {'max_depth': 10, # 트리 깊이\n",
    "         'learning_rate': 0.01, # Step Size\n",
    "         'n_estimators': 100, # Number of trees, 트리 생성 개수\n",
    "         'objective': 'multi:softmax', # 목적 함수\n",
    "        'num_class': len(set(train_y)) + 1} # 파라미터 추가, Label must be in [0, num_class) -> num_class보다 1 커야한다.\n",
    "xgb_model = xgb.train(params = xgb_param, dtrain = xgb_dtrain) # 학습 진행\n",
    "xgb_model_predict = xgb_model.predict(xgb_dtest) # 평가 데이터 예측\n",
    "print(\"Accuracy: %.2f\" % (accuracy_score(test_y, xgb_model_predict) * 100), \"%\") # 정확도 % 계산\n",
    "print(\"Time: %.2f\" % (time.time() - start), \"seconds\") # 코드 실행 시간 계산\n",
    "print(classification_report(test_y, xgb_model_predict,digits=3))"
   ]
  },
  {
   "cell_type": "markdown",
   "metadata": {},
   "source": [
    "# AdaBoost\n",
    "# : Accuracy: 93.51 %, f1-score 0.798,Time 0.10s"
   ]
  },
  {
   "cell_type": "code",
   "execution_count": 40,
   "metadata": {},
   "outputs": [
    {
     "name": "stdout",
     "output_type": "stream",
     "text": [
      "Accuracy: 93.51 %\n",
      "Time: 0.10 seconds\n",
      "              precision    recall  f1-score   support\n",
      "\n",
      "         0.0      0.949     0.974     0.961       460\n",
      "         1.0      0.855     0.747     0.798        95\n",
      "\n",
      "    accuracy                          0.935       555\n",
      "   macro avg      0.902     0.861     0.880       555\n",
      "weighted avg      0.933     0.935     0.933       555\n",
      "\n"
     ]
    }
   ],
   "source": [
    "from sklearn.ensemble import AdaBoostClassifier\n",
    "from sklearn.tree import DecisionTreeClassifier\n",
    "\n",
    "start = time.time() # 시작 시간 지정\n",
    "tree_model = DecisionTreeClassifier(max_depth = 5) # 트리 최대 깊이 5\n",
    "Adaboost_model = AdaBoostClassifier(base_estimator = tree_model, # 트리모델을 기본으로 추정\n",
    "                                     n_estimators = 20, # 20회 추정\n",
    "                                     random_state = 42) # 시드값 고정\n",
    "AdaBoost_model = Adaboost_model.fit(train_x, train_y) # 학습 진행\n",
    "AdaBoost_predict = AdaBoost_model.predict(test_x) # 평가 데이터 예측\n",
    "print(\"Accuracy: %.2f\" % (accuracy_score(test_y, AdaBoost_predict) * 100), \"%\") # 정확도 % 계산\n",
    "print(\"Time: %.2f\" % (time.time() - start), \"seconds\") # 코드 실행 시간 계산\n",
    "print(classification_report(test_y, AdaBoost_predict,digits=3))"
   ]
  },
  {
   "cell_type": "markdown",
   "metadata": {},
   "source": [
    "# RandomForest\n",
    "# : Accuracy: 94.59 %, f1-score 0.840,Time 0.05s"
   ]
  },
  {
   "cell_type": "code",
   "execution_count": 41,
   "metadata": {},
   "outputs": [
    {
     "name": "stdout",
     "output_type": "stream",
     "text": [
      "Accuracy: 94.59 %\n",
      "Time: 0.05 seconds\n",
      "              precision    recall  f1-score   support\n",
      "\n",
      "         0.0      0.965     0.970     0.967       460\n",
      "         1.0      0.849     0.832     0.840        95\n",
      "\n",
      "    accuracy                          0.946       555\n",
      "   macro avg      0.907     0.901     0.904       555\n",
      "weighted avg      0.946     0.946     0.946       555\n",
      "\n"
     ]
    }
   ],
   "source": [
    "from sklearn.ensemble import RandomForestClassifier\n",
    "\n",
    "start = time.time() # 시작 시간 지정\n",
    "RF_clf = RandomForestClassifier(n_estimators = 20, # 20번 추정\n",
    "                                             max_depth = 5, # 트리 최대 깊이 5\n",
    "                                             random_state = 42) # 시드값 고정\n",
    "RF_model = RF_clf.fit(train_x, train_y) # 학습 진행\n",
    "RF_predict = RF_model.predict(test_x) # 평가 데이터 예측\n",
    "print(\"Accuracy: %.2f\" % (accuracy_score(test_y, RF_predict) * 100), \"%\") # 정확도 % 계산\n",
    "print(\"Time: %.2f\" % (time.time() - start), \"seconds\") # 코드 실행 시간 계산\n",
    "print(classification_report(test_y, RF_predict,digits=3))"
   ]
  },
  {
   "cell_type": "markdown",
   "metadata": {},
   "source": [
    "# 📌 모델 평가\n",
    "\n",
    "###  f1-score\n",
    "\n",
    "RF(0.840) > LightGBM(0.807) > AdaBoost(0.798)> XGB(0.786)\n",
    "\n",
    "\n",
    "# 📌 모델 선택\n",
    "\n",
    "### 기준: 연체 예측 성능이 높은 모델 개발을 목표로 했으므로 f1-score가 높은 모델을 선정\n",
    "\n",
    "### 결과: RandomForest 모델을 선택\n"
   ]
  }
 ],
 "metadata": {
  "kernelspec": {
   "display_name": "Python 3",
   "language": "python",
   "name": "python3"
  },
  "language_info": {
   "codemirror_mode": {
    "name": "ipython",
    "version": 3
   },
   "file_extension": ".py",
   "mimetype": "text/x-python",
   "name": "python",
   "nbconvert_exporter": "python",
   "pygments_lexer": "ipython3",
   "version": "3.8.5"
  }
 },
 "nbformat": 4,
 "nbformat_minor": 4
}
