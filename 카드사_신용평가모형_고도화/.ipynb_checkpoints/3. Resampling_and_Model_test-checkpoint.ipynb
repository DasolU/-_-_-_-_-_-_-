{
 "cells": [
  {
   "cell_type": "code",
   "execution_count": 1,
   "metadata": {},
   "outputs": [],
   "source": [
    "#데이터 구성: Series, DataFrame\n",
    "import pandas as pd\n",
    "\n",
    "#행렬 연산\n",
    "import numpy as np\n",
    "\n",
    "#통계분석 패키지\n",
    "import scipy.stats\n",
    "from scipy import stats\n",
    "\n",
    "#datetime\n",
    "import datetime\n",
    "\n",
    "\n",
    "#데이터 시각화\n",
    "import matplotlib\n",
    "import matplotlib.pyplot as plt\n",
    "#데이터 시각화: 추세, 산점도 행렬\n",
    "import seaborn as sns\n",
    "\n",
    "# grhpviz\n",
    "from sklearn.tree import export_graphviz\n",
    "import graphviz\n",
    "\n",
    "\n",
    "#데이터 분할\n",
    "from sklearn.model_selection import train_test_split\n",
    "\n",
    "# 로지스틱 회귀\n",
    "from statsmodels.api import Logit\n",
    "from sklearn.metrics import accuracy_score\n",
    "\n",
    "# 의사결정나무\n",
    "from sklearn.tree import DecisionTreeClassifier\n",
    "\n",
    "# 랜덤포레스트\n",
    "from sklearn.ensemble import RandomForestClassifier\n",
    "\n",
    "# 그레디언트 부스팅\n",
    "from sklearn.ensemble import GradientBoostingClassifier\n",
    "\n",
    "# 모델 성능 평가\n",
    "from sklearn.metrics import confusion_matrix\n",
    "from sklearn.metrics import classification_report\n",
    "\n",
    "#다중공선성 확인\n",
    "from statsmodels.stats.outliers_influence import variance_inflation_factor\n",
    "\n",
    "#선형회귀모형\n",
    "from sklearn.linear_model import LinearRegression\n",
    "\n",
    "#변수 선택법(후진제거법)\n",
    "from sklearn.feature_selection import RFE\n",
    "\n",
    "#Scale 변환:평균, 표준편차 기준\n",
    "from sklearn.preprocessing import StandardScaler\n",
    "from sklearn.preprocessing import scale\n",
    "\n",
    "#평가함수\n",
    "from sklearn.metrics import mean_squared_error\n",
    "from sklearn.metrics import mean_absolute_error\n",
    "\n",
    "#jupyter notebook 사용시 그래프 자동 출력 옵션\n",
    "%matplotlib inline\n",
    "matplotlib.rc('font', family='AppleGothic')\n",
    "plt.rc('font',  family='AppleGothic')\n",
    "plt.rcParams['axes.unicode_minus']=False"
   ]
  },
  {
   "cell_type": "code",
   "execution_count": 2,
   "metadata": {
    "scrolled": true
   },
   "outputs": [],
   "source": [
    "df = pd.read_csv('wo_thin.csv', engine='python', encoding='cp949')"
   ]
  },
  {
   "cell_type": "markdown",
   "metadata": {},
   "source": [
    "# 원래 데이터의 연체/연체X 비율\n",
    "과거(2020년 전) 씬파일러 제외 1849명 중, 2020년 이후 연체인 사람 312명"
   ]
  },
  {
   "cell_type": "code",
   "execution_count": 3,
   "metadata": {},
   "outputs": [
    {
     "name": "stdout",
     "output_type": "stream",
     "text": [
      "Class imbalance ratio = 4.9: 1\n"
     ]
    }
   ],
   "source": [
    "ratio = (df['is_overdue'].count()-df['is_overdue'].sum())/df['is_overdue'].sum()\n",
    "print('Class imbalance ratio = {}: 1'.format(ratio.round(1)))"
   ]
  },
  {
   "cell_type": "code",
   "execution_count": 4,
   "metadata": {},
   "outputs": [
    {
     "name": "stdout",
     "output_type": "stream",
     "text": [
      "1849\n",
      "312.0\n"
     ]
    }
   ],
   "source": [
    "print(df['is_overdue'].count())\n",
    "print(df['is_overdue'].sum())"
   ]
  },
  {
   "cell_type": "code",
   "execution_count": 5,
   "metadata": {},
   "outputs": [
    {
     "name": "stderr",
     "output_type": "stream",
     "text": [
      "<ipython-input-5-35d7d39a5b98>:7: SettingWithCopyWarning: \n",
      "A value is trying to be set on a copy of a slice from a DataFrame.\n",
      "Try using .loc[row_indexer,col_indexer] = value instead\n",
      "\n",
      "See the caveats in the documentation: https://pandas.pydata.org/pandas-docs/stable/user_guide/indexing.html#returning-a-view-versus-a-copy\n",
      "  X['dwell_type'] = X['dwell_type'].map(dwell_mapping)\n"
     ]
    }
   ],
   "source": [
    "y = df[['is_overdue']]\n",
    "\n",
    "# X = df.drop(['is_overdue', 'credit_class', 'score_risk', 'age', 'income_home_grp', 'income_ind_grp', 'expenditure_grp', 'income_person', 'chaju_id', 'job', 'house_type'], axis=1)\n",
    "X = df[['gender', 'agegroup', 'dwell_type', 'child_cd', 'flag_priv_biz_cd', 'card_count', 'loan_dur', 'loan_count', 'over_dur', 'over_count']]\n",
    "\n",
    "dwell_mapping = {'자가': '자가', '전세': '전세', '월세': '월세', '영구임대': '월세', '사택/기타': '월세'}\n",
    "X['dwell_type'] = X['dwell_type'].map(dwell_mapping)\n",
    "\n",
    "# X[['sum_loan_at_time', 'loan_amt', 'over_amt', 'sum_cashservice_3y', 'sum_cardloan_3y', 'sum_creditcard_over']] = np.log10(X[['sum_loan_at_time', 'loan_amt', 'over_amt', 'sum_cashservice_3y', 'sum_cardloan_3y', 'sum_creditcard_over']]+1)\n",
    "\n",
    "X = pd.get_dummies(X, drop_first=True)"
   ]
  },
  {
   "cell_type": "code",
   "execution_count": 6,
   "metadata": {},
   "outputs": [
    {
     "data": {
      "text/plain": [
       "is_overdue\n",
       "0.0           1537\n",
       "1.0            312\n",
       "dtype: int64"
      ]
     },
     "execution_count": 6,
     "metadata": {},
     "output_type": "execute_result"
    }
   ],
   "source": [
    "y.value_counts()"
   ]
  },
  {
   "cell_type": "markdown",
   "metadata": {},
   "source": [
    "# Resampling\n",
    "y=1인 데이터의 개수를 y=0인 데이터 개수(1537)로 증가시키키 (1.0, 312)=>(1.0, 1537)"
   ]
  },
  {
   "cell_type": "code",
   "execution_count": 7,
   "metadata": {},
   "outputs": [
    {
     "name": "stdout",
     "output_type": "stream",
     "text": [
      "y after resampling [(0.0, 1537), (1.0, 1537)]\n",
      "y_over: oversampling 완료한 y의 총 개수 1537*2 =  3074\n",
      "3074\n"
     ]
    }
   ],
   "source": [
    "from imblearn.over_sampling import RandomOverSampler \n",
    "from imblearn.under_sampling import RandomUnderSampler\n",
    "from collections import Counter\n",
    "\n",
    "\"\"\"\n",
    "class 비율이 1000:100인 경우=>100인 class를 1000으로 늘려준다.\n",
    "majority class had 1,000 examples and the minority class had 100, \n",
    "this strategy would oversampling the minority class so that it has 1,000 examples.\n",
    "\n",
    "\"\"\"\n",
    "oversample = RandomOverSampler(sampling_strategy='minority')#sampling_strategy=1)#sampling_strategy='minority')\n",
    "\n",
    "# fit_resample에 넣는 X,y type은 numpy.ndarray여야 한다.\n",
    "X_over, y_over = oversample.fit_resample(X.to_numpy(), y.to_numpy())\n",
    "print('y after resampling', sorted(Counter(y_over).items()))\n",
    "print('y_over: oversampling 완료한 y의 총 개수 1537*2 = ', len(y_over))\n",
    "print(len(X_over))\n",
    "# under = RandomUnderSampler(sampling_strategy=555/1537)\n",
    "# X_over, y_over = under.fit_resample(X_over, y_over)\n",
    "# print('y after resampling', sorted(Counter(y_over).items()))"
   ]
  },
  {
   "cell_type": "code",
   "execution_count": 40,
   "metadata": {},
   "outputs": [
    {
     "name": "stdout",
     "output_type": "stream",
     "text": [
      "1998\n"
     ]
    }
   ],
   "source": [
    "# resampling된 train, test 데이터\n",
    "train_x_resampled, dummy, train_y_resampled, dummy = train_test_split(X_over, y_over, test_size=0.35, stratify=y_over, random_state=0)\n",
    "print(len(train_y_resampled))"
   ]
  },
  {
   "cell_type": "code",
   "execution_count": 41,
   "metadata": {},
   "outputs": [],
   "source": [
    "dummy, test_x_select, train_y, test_y_select = train_test_split(X, y, test_size=0.3, stratify=y,random_state=0)"
   ]
  },
  {
   "cell_type": "code",
   "execution_count": 11,
   "metadata": {},
   "outputs": [
    {
     "data": {
      "text/plain": [
       "1.0    999\n",
       "0.0    999\n",
       "dtype: int64"
      ]
     },
     "execution_count": 11,
     "metadata": {},
     "output_type": "execute_result"
    }
   ],
   "source": [
    "a = pd.DataFrame(train_y_resampled)\n",
    "a.value_counts()"
   ]
  },
  {
   "cell_type": "code",
   "execution_count": 12,
   "metadata": {},
   "outputs": [
    {
     "name": "stdout",
     "output_type": "stream",
     "text": [
      "train_y_resampled\n",
      "0    1.0\n",
      "dtype: float64\n"
     ]
    }
   ],
   "source": [
    "print('train_y_resampled')\n",
    "print(a[a==0].count()/a[a==1].count())"
   ]
  },
  {
   "cell_type": "code",
   "execution_count": 46,
   "metadata": {},
   "outputs": [
    {
     "data": {
      "text/plain": [
       "is_overdue\n",
       "0.0           461\n",
       "1.0            94\n",
       "dtype: int64"
      ]
     },
     "execution_count": 46,
     "metadata": {},
     "output_type": "execute_result"
    }
   ],
   "source": [
    "a = pd.DataFrame(test_y_select)\n",
    "a.value_counts()"
   ]
  },
  {
   "cell_type": "code",
   "execution_count": 47,
   "metadata": {},
   "outputs": [
    {
     "name": "stdout",
     "output_type": "stream",
     "text": [
      "test_y_select\n",
      "is_overdue    4.904255\n",
      "dtype: float64\n"
     ]
    }
   ],
   "source": [
    "print('test_y_select')\n",
    "print(a[a==0].count()/a[a==1].count())"
   ]
  },
  {
   "cell_type": "markdown",
   "metadata": {},
   "source": [
    "# 모델 입성 전 train, test set 정의"
   ]
  },
  {
   "cell_type": "code",
   "execution_count": 54,
   "metadata": {},
   "outputs": [
    {
     "name": "stdout",
     "output_type": "stream",
     "text": [
      "1998\n",
      "1398\n"
     ]
    }
   ],
   "source": [
    "# print(len(train_y_resampled))\n",
    "\n",
    "# train_y_select, dummy = train_test_split(train_y_resampled, test_size=0.3, stratify=train_y_resampled, random_state=0)\n",
    "# print(len(train_y_select))\n",
    "\n",
    "# dummy, train_y_select = train_test_split(train_y_resampled, test_size=len(train_y_test)/len(train_y_resampled), stratify=train_y_resampled,random_state=0)\n",
    "# print(len(train_y_select))\n",
    "\n",
    "# train_x_select, dummy = train_test_split(train_x_resampled, test_size=0.3, stratify=train_x_resampled, random_state=0)\n",
    "# print(len(train_x_select))"
   ]
  },
  {
   "cell_type": "code",
   "execution_count": 46,
   "metadata": {},
   "outputs": [
    {
     "data": {
      "text/plain": [
       "1398"
      ]
     },
     "execution_count": 46,
     "metadata": {},
     "output_type": "execute_result"
    }
   ],
   "source": [
    "# len(train_y_select)"
   ]
  },
  {
   "cell_type": "code",
   "execution_count": 50,
   "metadata": {},
   "outputs": [
    {
     "data": {
      "text/plain": [
       "1998"
      ]
     },
     "execution_count": 50,
     "metadata": {},
     "output_type": "execute_result"
    }
   ],
   "source": [
    "# len(train_x)"
   ]
  },
  {
   "cell_type": "code",
   "execution_count": 57,
   "metadata": {},
   "outputs": [
    {
     "data": {
      "text/plain": [
       "1.0    999\n",
       "0.0    999\n",
       "dtype: int64"
      ]
     },
     "execution_count": 57,
     "metadata": {},
     "output_type": "execute_result"
    }
   ],
   "source": [
    "# a = pd.DataFrame(train_y_select)\n",
    "# a = pd.DataFrame(train_y_resampled)\n",
    "# a.value_counts()"
   ]
  },
  {
   "cell_type": "code",
   "execution_count": 58,
   "metadata": {
    "scrolled": true
   },
   "outputs": [
    {
     "name": "stdout",
     "output_type": "stream",
     "text": [
      "train_y_select\n",
      "0    1.0\n",
      "dtype: float64\n"
     ]
    }
   ],
   "source": [
    "# print('train_y_select')\n",
    "# print(a[a==0].count()/a[a==1].count())"
   ]
  },
  {
   "cell_type": "code",
   "execution_count": 68,
   "metadata": {},
   "outputs": [],
   "source": [
    "train_x = train_x_resampled\n",
    "train_y = train_y_resampled\n",
    "test_x = test_x_select\n",
    "test_y = test_y_select\n",
    "print('train_x',train_x.shape)\n",
    "print('train_y',train_y.shape)\n",
    "print('test_x',test_x.shape)\n",
    "print('test_y',test_y.shape)"
   ]
  },
  {
   "cell_type": "markdown",
   "metadata": {},
   "source": [
    "# train_y 최종\n",
    "## 연체X : 연체 = 1 : 1 (oversampled)"
   ]
  },
  {
   "cell_type": "code",
   "execution_count": 61,
   "metadata": {},
   "outputs": [
    {
     "data": {
      "text/plain": [
       "1.0    999\n",
       "0.0    999\n",
       "dtype: int64"
      ]
     },
     "execution_count": 61,
     "metadata": {},
     "output_type": "execute_result"
    }
   ],
   "source": [
    "a = pd.DataFrame(train_y)\n",
    "a.value_counts()"
   ]
  },
  {
   "cell_type": "code",
   "execution_count": 62,
   "metadata": {},
   "outputs": [
    {
     "name": "stdout",
     "output_type": "stream",
     "text": [
      "train_y 최종의 연체X/연체 비율\n",
      "0    1.0\n",
      "dtype: float64\n"
     ]
    }
   ],
   "source": [
    "print('train_y 최종의 연체X/연체 비율')\n",
    "print(a[a==0].count()/a[a==1].count())"
   ]
  },
  {
   "cell_type": "markdown",
   "metadata": {},
   "source": [
    "# test_y 최종\n",
    "## 연체X : 연체 = 4.9 : 1 (원래 데이터 비율)"
   ]
  },
  {
   "cell_type": "code",
   "execution_count": 63,
   "metadata": {
    "scrolled": true
   },
   "outputs": [
    {
     "data": {
      "text/plain": [
       "is_overdue\n",
       "0.0           461\n",
       "1.0            94\n",
       "dtype: int64"
      ]
     },
     "execution_count": 63,
     "metadata": {},
     "output_type": "execute_result"
    }
   ],
   "source": [
    "a = pd.DataFrame(test_y)\n",
    "a.value_counts()"
   ]
  },
  {
   "cell_type": "code",
   "execution_count": 64,
   "metadata": {},
   "outputs": [
    {
     "name": "stdout",
     "output_type": "stream",
     "text": [
      "test_y 최종의 연체X/연체 비율\n",
      "is_overdue    4.904255\n",
      "dtype: float64\n"
     ]
    }
   ],
   "source": [
    "print('test_y 최종의 연체X/연체 비율')\n",
    "print(a[a==0].count()/a[a==1].count())"
   ]
  },
  {
   "cell_type": "markdown",
   "metadata": {},
   "source": [
    "# RandomForest"
   ]
  },
  {
   "cell_type": "code",
   "execution_count": 70,
   "metadata": {},
   "outputs": [
    {
     "name": "stdout",
     "output_type": "stream",
     "text": [
      "Accuracy: 92.97 %\n"
     ]
    }
   ],
   "source": [
    "from sklearn.ensemble import RandomForestClassifier\n",
    "from sklearn.metrics import accuracy_score, confusion_matrix, classification_report\n",
    "random_forest_model1 = RandomForestClassifier(n_estimators = 20, # 20번 추정\n",
    "                                             max_depth = 5, # 트리 최대 깊이 5\n",
    "                                             random_state = 42) # 시드값 고정\n",
    "rf_final = random_forest_model1.fit(train_x, train_y) # 학습 진행\n",
    "print(\"Accuracy: %.2f\" % (accuracy_score(test_y, rf_final.predict(test_x)) * 100), \"%\") # 정확도 % 계산"
   ]
  },
  {
   "cell_type": "code",
   "execution_count": 71,
   "metadata": {},
   "outputs": [
    {
     "name": "stdout",
     "output_type": "stream",
     "text": [
      "Accuracy on trainig set: 0.9164164164164165\n",
      "Accuracy on test set: 0.9297297297297298\n",
      "Confusion matrix: \n",
      "[[440  21]\n",
      " [ 18  76]]\n",
      "              precision    recall  f1-score   support\n",
      "\n",
      "         0.0      0.961     0.954     0.958       461\n",
      "         1.0      0.784     0.809     0.796        94\n",
      "\n",
      "    accuracy                          0.930       555\n",
      "   macro avg      0.872     0.881     0.877       555\n",
      "weighted avg      0.931     0.930     0.930       555\n",
      "\n"
     ]
    }
   ],
   "source": [
    "y_pred=rf_final.predict(test_x)\n",
    "print(\"Accuracy on trainig set: {}\".format(rf_final.score(train_x,train_y)))\n",
    "print(\"Accuracy on test set: {}\".format(rf_final.score(test_x,test_y)))\n",
    "\n",
    "print(\"Confusion matrix: \\n{}\".format(confusion_matrix(test_y,y_pred)))\n",
    "\n",
    "print(classification_report(test_y,y_pred,digits=3))"
   ]
  },
  {
   "cell_type": "code",
   "execution_count": 72,
   "metadata": {},
   "outputs": [
    {
     "data": {
      "text/html": [
       "<div>\n",
       "<style scoped>\n",
       "    .dataframe tbody tr th:only-of-type {\n",
       "        vertical-align: middle;\n",
       "    }\n",
       "\n",
       "    .dataframe tbody tr th {\n",
       "        vertical-align: top;\n",
       "    }\n",
       "\n",
       "    .dataframe thead th {\n",
       "        text-align: right;\n",
       "    }\n",
       "</style>\n",
       "<table border=\"1\" class=\"dataframe\">\n",
       "  <thead>\n",
       "    <tr style=\"text-align: right;\">\n",
       "      <th></th>\n",
       "      <th>Feature</th>\n",
       "      <th>Importance</th>\n",
       "    </tr>\n",
       "  </thead>\n",
       "  <tbody>\n",
       "    <tr>\n",
       "      <th>10</th>\n",
       "      <td>agegroup_70대</td>\n",
       "      <td>0.001</td>\n",
       "    </tr>\n",
       "    <tr>\n",
       "      <th>7</th>\n",
       "      <td>agegroup_40대</td>\n",
       "      <td>0.001</td>\n",
       "    </tr>\n",
       "    <tr>\n",
       "      <th>11</th>\n",
       "      <td>agegroup_80대이상</td>\n",
       "      <td>0.001</td>\n",
       "    </tr>\n",
       "    <tr>\n",
       "      <th>8</th>\n",
       "      <td>agegroup_50대</td>\n",
       "      <td>0.001</td>\n",
       "    </tr>\n",
       "    <tr>\n",
       "      <th>6</th>\n",
       "      <td>agegroup_30대</td>\n",
       "      <td>0.002</td>\n",
       "    </tr>\n",
       "    <tr>\n",
       "      <th>13</th>\n",
       "      <td>dwell_type_전세</td>\n",
       "      <td>0.002</td>\n",
       "    </tr>\n",
       "    <tr>\n",
       "      <th>12</th>\n",
       "      <td>dwell_type_자가</td>\n",
       "      <td>0.002</td>\n",
       "    </tr>\n",
       "    <tr>\n",
       "      <th>5</th>\n",
       "      <td>gender_여성</td>\n",
       "      <td>0.004</td>\n",
       "    </tr>\n",
       "    <tr>\n",
       "      <th>9</th>\n",
       "      <td>agegroup_60대</td>\n",
       "      <td>0.004</td>\n",
       "    </tr>\n",
       "    <tr>\n",
       "      <th>15</th>\n",
       "      <td>flag_priv_biz_cd_Y</td>\n",
       "      <td>0.005</td>\n",
       "    </tr>\n",
       "    <tr>\n",
       "      <th>14</th>\n",
       "      <td>child_cd_Y</td>\n",
       "      <td>0.005</td>\n",
       "    </tr>\n",
       "    <tr>\n",
       "      <th>1</th>\n",
       "      <td>loan_dur</td>\n",
       "      <td>0.023</td>\n",
       "    </tr>\n",
       "    <tr>\n",
       "      <th>0</th>\n",
       "      <td>card_count</td>\n",
       "      <td>0.041</td>\n",
       "    </tr>\n",
       "    <tr>\n",
       "      <th>2</th>\n",
       "      <td>loan_count</td>\n",
       "      <td>0.072</td>\n",
       "    </tr>\n",
       "    <tr>\n",
       "      <th>4</th>\n",
       "      <td>over_count</td>\n",
       "      <td>0.321</td>\n",
       "    </tr>\n",
       "    <tr>\n",
       "      <th>3</th>\n",
       "      <td>over_dur</td>\n",
       "      <td>0.515</td>\n",
       "    </tr>\n",
       "  </tbody>\n",
       "</table>\n",
       "</div>"
      ],
      "text/plain": [
       "               Feature  Importance\n",
       "10        agegroup_70대       0.001\n",
       "7         agegroup_40대       0.001\n",
       "11      agegroup_80대이상       0.001\n",
       "8         agegroup_50대       0.001\n",
       "6         agegroup_30대       0.002\n",
       "13       dwell_type_전세       0.002\n",
       "12       dwell_type_자가       0.002\n",
       "5            gender_여성       0.004\n",
       "9         agegroup_60대       0.004\n",
       "15  flag_priv_biz_cd_Y       0.005\n",
       "14          child_cd_Y       0.005\n",
       "1             loan_dur       0.023\n",
       "0           card_count       0.041\n",
       "2           loan_count       0.072\n",
       "4           over_count       0.321\n",
       "3             over_dur       0.515"
      ]
     },
     "execution_count": 72,
     "metadata": {},
     "output_type": "execute_result"
    }
   ],
   "source": [
    "df_importance = pd.DataFrame()\n",
    "feature_name = X.columns\n",
    "df_importance['Feature'] = feature_name\n",
    "df_importance['Importance'] = rf_final.feature_importances_\n",
    "df_importance.sort_values('Importance', ascending=True, inplace=True)\n",
    "df_importance.round(3)\n"
   ]
  },
  {
   "cell_type": "code",
   "execution_count": 73,
   "metadata": {},
   "outputs": [
    {
     "data": {
      "text/plain": [
       "Text(0, 0.5, '변수')"
      ]
     },
     "execution_count": 73,
     "metadata": {},
     "output_type": "execute_result"
    },
    {
     "data": {
      "image/png": "[encoded data removed]",
      "text/plain": [
       "<Figure size 432x288 with 1 Axes>"
      ]
     },
     "metadata": {
      "needs_background": "light"
     },
     "output_type": "display_data"
    }
   ],
   "source": [
    "coordinates = range(len(df_importance))\n",
    "plt.barh(y=coordinates, width=df_importance['Importance'])\n",
    "plt.yticks(coordinates, df_importance['Feature'])\n",
    "plt.xlabel('변수중요도')\n",
    "plt.ylabel('변수')"
   ]
  }
 ],
 "metadata": {
  "kernelspec": {
   "display_name": "Python 3",
   "language": "python",
   "name": "python3"
  },
  "language_info": {
   "codemirror_mode": {
    "name": "ipython",
    "version": 3
   },
   "file_extension": ".py",
   "mimetype": "text/x-python",
   "name": "python",
   "nbconvert_exporter": "python",
   "pygments_lexer": "ipython3",
   "version": "3.8.5"
  },
  "toc": {
   "base_numbering": 1,
   "nav_menu": {},
   "number_sections": false,
   "sideBar": true,
   "skip_h1_title": false,
   "title_cell": "Table of Contents",
   "title_sidebar": "Contents",
   "toc_cell": false,
   "toc_position": {},
   "toc_section_display": true,
   "toc_window_display": false
  }
 },
 "nbformat": 4,
 "nbformat_minor": 5
}
